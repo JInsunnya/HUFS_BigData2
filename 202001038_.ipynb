{
 "cells": [
  {
   "cell_type": "markdown",
   "metadata": {},
   "source": [
    "## 서울시 대기질 분석을 통한 도시 대기질 개선 방안 제안\n",
    "### 서울의 대기질 데이터를 분석하여 도시 환경 개선 및 건강 향상을 위한 방안을 제시하는 프로젝트이다. 다양한 측정소에서 수집된 대기오염 물질(SO2, CO, NO2, PM10, PM2.5)의 측정값을 바탕으로 서울의 대기질을 평가하고, 오염 추세를 분석하며, 계절별 및 지역별 대기질의 차이를 분석하여 도시 대기질 개선을 위한 정책을 제안하는 것이 목표이다.\n",
    "#### 1. 데이터 전처리\n",
    "#### 수집된 대기질 데이터를 정리하고, 결측치 및 이상치를 처리하여 신뢰할 수 있는 분석을 위한 데이터를 준비한다.\n",
    "#### 2. 지역별 및 계절별 분석\n",
    "#### 대기질 데이터를 지역별, 계절별로 분리하여 대기질의 지역적 차이와 게절적 변화를 분석한다.\n",
    "#### 3. 시각화 및 지도화\n",
    "#### 대기오염 수준을 시각화하여, 서울의 대기질 상태를 직관적으로 이해할 수 있도록 지도에 표시하고, 대기질이 나쁜 지역을 시각적으로 나타낸다.\n",
    "#### 4. 예측 모델링\n",
    "#### 과거의 대기질 데이터를 기반으로 Random Forest 회귀 모델을 사용하여 미래의 대기질을 예측하고, 예측 성능을 MAE(평균 절대 오차) 및 RMSE(평균 제곱근 오차) 등의 지표로 평가한다.\n",
    "#### 5. 정책 제안\n",
    "#### 분석 결과를 바탕으로 대기질 개선을 위한 정책을 제안한다. 도시 숲 조성, 교통 관리 등을 통해 대기질을 개선할 수 있는 방안을 제시한다.\n",
    "### 이 프로젝트는 대기질 데이터를 활용하여 도시 환경과 공공 건강을 개선하는 데 기여하며, 정책 결정자들이 실질적인 개선책을 마련하는 데 도움이 될 것이다."
   ]
  },
  {
   "cell_type": "code",
   "execution_count": 1,
   "metadata": {},
   "outputs": [
    {
     "name": "stdout",
     "output_type": "stream",
     "text": [
      "2023년 1월\n",
      "            지역       망   측정소코드 측정소명        측정일시     SO2   CO     O3     NO2  \\\n",
      "0        서울 중구    도시대기  111121   중구  2023010101  0.0040  0.8  0.004  0.0550   \n",
      "1        서울 중구    도시대기  111121   중구  2023010102  0.0040  0.8  0.004  0.0510   \n",
      "2        서울 중구    도시대기  111121   중구  2023010103  0.0040  0.8  0.005  0.0480   \n",
      "3        서울 중구    도시대기  111121   중구  2023010104  0.0040  0.7  0.014  0.0320   \n",
      "4        서울 중구    도시대기  111121   중구  2023010105  0.0040  0.7  0.021  0.0210   \n",
      "...        ...     ...     ...  ...         ...     ...  ...    ...     ...   \n",
      "477379  인천 옹진군  국가배경농도  831495   울도  2023013120  0.0012  0.3  0.040  0.0120   \n",
      "477380  인천 옹진군  국가배경농도  831495   울도  2023013121  0.0013  0.3  0.036  0.0164   \n",
      "477381  인천 옹진군  국가배경농도  831495   울도  2023013122  0.0011  0.3  0.041  0.0123   \n",
      "477382  인천 옹진군  국가배경농도  831495   울도  2023013123  0.0008  0.3  0.043  0.0075   \n",
      "477383  인천 옹진군  국가배경농도  831495   울도  2023013124  0.0010  0.4  0.035  0.0129   \n",
      "\n",
      "        PM10  PM25                   주소  \n",
      "0       57.0  52.0        서울 중구 덕수궁길 15  \n",
      "1       65.0  60.0        서울 중구 덕수궁길 15  \n",
      "2       73.0  63.0        서울 중구 덕수궁길 15  \n",
      "3       76.0  71.0        서울 중구 덕수궁길 15  \n",
      "4       78.0  73.0        서울 중구 덕수궁길 15  \n",
      "...      ...   ...                  ...  \n",
      "477379  37.0  16.0  인천 옹진군 덕적면 울도리 85번지  \n",
      "477380  47.0  13.0  인천 옹진군 덕적면 울도리 85번지  \n",
      "477381  45.0  21.0  인천 옹진군 덕적면 울도리 85번지  \n",
      "477382  52.0  19.0  인천 옹진군 덕적면 울도리 85번지  \n",
      "477383  59.0  20.0  인천 옹진군 덕적면 울도리 85번지  \n",
      "\n",
      "[477384 rows x 12 columns]\n"
     ]
    }
   ],
   "source": [
    "#노트북 환경이 좋지 않아 깔끔하게 한 번에 파일이 불러와지지 않아 하나씩 불러온 후 데이터를 분석하였습니다.\n",
    "import pandas as pd #데이터 분석을 위한 pandas 호출. pandas 라이브러리를 import(호출)하는데, 앞으로 pd라고 부르겠다는 의미\n",
    "#한 번에 불러오면 주피터노트북이 멈추는 현상 발생. 1월부터 파일을 로드해서 df_1 변수에 담음.\n",
    "df_1 = pd.read_excel(r\"C:\\Users\\jsk57\\Downloads\\2023\\2023\\2023y1m.xlsx\") #경로 문제로 인해 앞에 r 기재하여 해결\n",
    "print(\"2023년 1월\")\n",
    "print(df_1)"
   ]
  },
  {
   "cell_type": "code",
   "execution_count": 2,
   "metadata": {},
   "outputs": [
    {
     "name": "stdout",
     "output_type": "stream",
     "text": [
      "2023년 2월\n",
      "            지역       망   측정소코드 측정소명        측정일시     SO2    CO      O3     NO2  \\\n",
      "0        서울 중구    도시대기  111121   중구  2023020101     NaN   NaN     NaN     NaN   \n",
      "1        서울 중구    도시대기  111121   중구  2023020102     NaN   NaN     NaN     NaN   \n",
      "2        서울 중구    도시대기  111121   중구  2023020103     NaN   NaN     NaN     NaN   \n",
      "3        서울 중구    도시대기  111121   중구  2023020104     NaN   NaN     NaN     NaN   \n",
      "4        서울 중구    도시대기  111121   중구  2023020105     NaN   NaN     NaN     NaN   \n",
      "...        ...     ...     ...  ...         ...     ...   ...     ...     ...   \n",
      "431419  인천 옹진군  국가배경농도  831495   울도  2023022820  0.0014  0.27  0.0528  0.0096   \n",
      "431420  인천 옹진군  국가배경농도  831495   울도  2023022821  0.0013  0.26  0.0548  0.0070   \n",
      "431421  인천 옹진군  국가배경농도  831495   울도  2023022822  0.0016  0.26  0.0471  0.0122   \n",
      "431422  인천 옹진군  국가배경농도  831495   울도  2023022823  0.0014  0.27  0.0451  0.0125   \n",
      "431423  인천 옹진군  국가배경농도  831495   울도  2023022824  0.0019  0.28  0.0304  0.0225   \n",
      "\n",
      "        PM10  PM25                   주소  \n",
      "0        NaN   NaN        서울 중구 덕수궁길 15  \n",
      "1        NaN   NaN        서울 중구 덕수궁길 15  \n",
      "2        NaN   NaN        서울 중구 덕수궁길 15  \n",
      "3        NaN   NaN        서울 중구 덕수궁길 15  \n",
      "4        NaN   NaN        서울 중구 덕수궁길 15  \n",
      "...      ...   ...                  ...  \n",
      "431419  37.0  23.0  인천 옹진군 덕적면 울도리 85번지  \n",
      "431420  33.0  24.0  인천 옹진군 덕적면 울도리 85번지  \n",
      "431421  41.0  19.0  인천 옹진군 덕적면 울도리 85번지  \n",
      "431422  39.0  20.0  인천 옹진군 덕적면 울도리 85번지  \n",
      "431423  49.0  24.0  인천 옹진군 덕적면 울도리 85번지  \n",
      "\n",
      "[431424 rows x 12 columns]\n"
     ]
    }
   ],
   "source": [
    "df_2 = pd.read_excel(r\"C:\\Users\\jsk57\\Downloads\\2023\\2023\\2023y2m.xlsx\") #2월 파일을 로드해서 df_2 변수에 담음.\n",
    "print(\"2023년 2월\")\n",
    "print(df_2)"
   ]
  },
  {
   "cell_type": "code",
   "execution_count": 3,
   "metadata": {},
   "outputs": [
    {
     "name": "stdout",
     "output_type": "stream",
     "text": [
      "2023년 3월\n",
      "            지역       망   측정소코드 측정소명        측정일시     SO2    CO      O3     NO2  \\\n",
      "0        서울 중구    도시대기  111121   중구  2023030101  0.0025  0.45  0.0273  0.0321   \n",
      "1        서울 중구    도시대기  111121   중구  2023030102  0.0028  0.46  0.0284  0.0311   \n",
      "2        서울 중구    도시대기  111121   중구  2023030103  0.0028  0.39  0.0365  0.0227   \n",
      "3        서울 중구    도시대기  111121   중구  2023030104  0.0024  0.35  0.0378  0.0211   \n",
      "4        서울 중구    도시대기  111121   중구  2023030105  0.0027  0.45  0.0213  0.0333   \n",
      "...        ...     ...     ...  ...         ...     ...   ...     ...     ...   \n",
      "477835  인천 옹진군  국가배경농도  831495   울도  2023033120  0.0018  0.39  0.0616  0.0088   \n",
      "477836  인천 옹진군  국가배경농도  831495   울도  2023033121  0.0023  0.36  0.0641  0.0094   \n",
      "477837  인천 옹진군  국가배경농도  831495   울도  2023033122  0.0021  0.29  0.0710  0.0069   \n",
      "477838  인천 옹진군  국가배경농도  831495   울도  2023033123  0.0020  0.34  0.0632  0.0092   \n",
      "477839  인천 옹진군  국가배경농도  831495   울도  2023033124  0.0020  0.35  0.0614  0.0092   \n",
      "\n",
      "        PM10  PM25                   주소  \n",
      "0       27.0  22.0        서울 중구 덕수궁길 15  \n",
      "1       27.0  23.0        서울 중구 덕수궁길 15  \n",
      "2       25.0  22.0        서울 중구 덕수궁길 15  \n",
      "3       23.0  18.0        서울 중구 덕수궁길 15  \n",
      "4       26.0  22.0        서울 중구 덕수궁길 15  \n",
      "...      ...   ...                  ...  \n",
      "477835  84.0  55.0  인천 옹진군 덕적면 울도리 85번지  \n",
      "477836  84.0  52.0  인천 옹진군 덕적면 울도리 85번지  \n",
      "477837  57.0  29.0  인천 옹진군 덕적면 울도리 85번지  \n",
      "477838  72.0  48.0  인천 옹진군 덕적면 울도리 85번지  \n",
      "477839  82.0  42.0  인천 옹진군 덕적면 울도리 85번지  \n",
      "\n",
      "[477840 rows x 12 columns]\n"
     ]
    }
   ],
   "source": [
    "df_3 = pd.read_excel(r\"C:\\Users\\jsk57\\Downloads\\2023\\2023\\2023y3m.xlsx\") #3월 파일을 로드해서 df_3 변수에 담음.\n",
    "print(\"2023년 3월\")\n",
    "print(df_3)"
   ]
  },
  {
   "cell_type": "code",
   "execution_count": 6,
   "metadata": {},
   "outputs": [
    {
     "name": "stdout",
     "output_type": "stream",
     "text": [
      "2023년 4월\n",
      "            지역       망   측정소코드 측정소명        측정일시     SO2    CO      O3     NO2  \\\n",
      "0        서울 중구    도시대기  111121   중구  2023040101  0.0045  0.74  0.0119  0.0686   \n",
      "1        서울 중구    도시대기  111121   중구  2023040102  0.0045  0.72  0.0102  0.0678   \n",
      "2        서울 중구    도시대기  111121   중구  2023040103  0.0042  0.76  0.0060  0.0717   \n",
      "3        서울 중구    도시대기  111121   중구  2023040104  0.0042  0.73  0.0076  0.0627   \n",
      "4        서울 중구    도시대기  111121   중구  2023040105  0.0036  0.71  0.0088  0.0550   \n",
      "...        ...     ...     ...  ...         ...     ...   ...     ...     ...   \n",
      "464131  인천 옹진군  국가배경농도  831495   울도  2023043020  0.0013  0.46     NaN  0.0060   \n",
      "464132  인천 옹진군  국가배경농도  831495   울도  2023043021  0.0011  0.46     NaN  0.0055   \n",
      "464133  인천 옹진군  국가배경농도  831495   울도  2023043022  0.0014  0.50     NaN  0.0092   \n",
      "464134  인천 옹진군  국가배경농도  831495   울도  2023043023  0.0012  0.46     NaN  0.0126   \n",
      "464135  인천 옹진군  국가배경농도  831495   울도  2023043024  0.0012  0.42     NaN  0.0135   \n",
      "\n",
      "        PM10  PM25                   주소  \n",
      "0       86.0  50.0        서울 중구 덕수궁길 15  \n",
      "1       85.0  48.0        서울 중구 덕수궁길 15  \n",
      "2       84.0  50.0        서울 중구 덕수궁길 15  \n",
      "3       82.0  48.0        서울 중구 덕수궁길 15  \n",
      "4       75.0  42.0        서울 중구 덕수궁길 15  \n",
      "...      ...   ...                  ...  \n",
      "464131  70.0  28.0  인천 옹진군 덕적면 울도리 85번지  \n",
      "464132  71.0  28.0  인천 옹진군 덕적면 울도리 85번지  \n",
      "464133  79.0  32.0  인천 옹진군 덕적면 울도리 85번지  \n",
      "464134  74.0  33.0  인천 옹진군 덕적면 울도리 85번지  \n",
      "464135  61.0  22.0  인천 옹진군 덕적면 울도리 85번지  \n",
      "\n",
      "[464136 rows x 12 columns]\n"
     ]
    }
   ],
   "source": [
    "df_4 = pd.read_excel(r\"C:\\Users\\jsk57\\Downloads\\2023\\2023\\2023y4m.xlsx\") #4월 파일을 로드해서 df_4 변수에 담음.\n",
    "print(\"2023년 4월\")\n",
    "print(df_4)"
   ]
  },
  {
   "cell_type": "code",
   "execution_count": 7,
   "metadata": {},
   "outputs": [
    {
     "name": "stdout",
     "output_type": "stream",
     "text": [
      "2023년 5월\n",
      "            지역       망   측정소코드 측정소명        측정일시     SO2    CO      O3     NO2  \\\n",
      "0        서울 중구    도시대기  111121   중구  2023050101  0.0029  0.42  0.0467  0.0118   \n",
      "1        서울 중구    도시대기  111121   중구  2023050102  0.0026  0.42  0.0414  0.0131   \n",
      "2        서울 중구    도시대기  111121   중구  2023050103  0.0027  0.42  0.0373  0.0137   \n",
      "3        서울 중구    도시대기  111121   중구  2023050104  0.0027  0.39  0.0388  0.0110   \n",
      "4        서울 중구    도시대기  111121   중구  2023050105  0.0023  0.40  0.0355  0.0122   \n",
      "...        ...     ...     ...  ...         ...     ...   ...     ...     ...   \n",
      "480283  인천 옹진군  국가배경농도  831495   울도  2023053120  0.0016  0.43  0.0631  0.0037   \n",
      "480284  인천 옹진군  국가배경농도  831495   울도  2023053121  0.0016  0.42  0.0686  0.0036   \n",
      "480285  인천 옹진군  국가배경농도  831495   울도  2023053122  0.0015  0.41  0.0659  0.0034   \n",
      "480286  인천 옹진군  국가배경농도  831495   울도  2023053123  0.0015  0.39  0.0579  0.0029   \n",
      "480287  인천 옹진군  국가배경농도  831495   울도  2023053124  0.0014  0.39  0.0473  0.0149   \n",
      "\n",
      "        PM10  PM25                   주소  \n",
      "0       65.0  24.0        서울 중구 덕수궁길 15  \n",
      "1       62.0  22.0        서울 중구 덕수궁길 15  \n",
      "2       65.0  25.0        서울 중구 덕수궁길 15  \n",
      "3       61.0  23.0        서울 중구 덕수궁길 15  \n",
      "4       60.0  25.0        서울 중구 덕수궁길 15  \n",
      "...      ...   ...                  ...  \n",
      "480283  29.0  20.0  인천 옹진군 덕적면 울도리 85번지  \n",
      "480284  30.0  17.0  인천 옹진군 덕적면 울도리 85번지  \n",
      "480285  27.0  17.0  인천 옹진군 덕적면 울도리 85번지  \n",
      "480286   8.0   3.0  인천 옹진군 덕적면 울도리 85번지  \n",
      "480287  13.0   3.0  인천 옹진군 덕적면 울도리 85번지  \n",
      "\n",
      "[480288 rows x 12 columns]\n"
     ]
    }
   ],
   "source": [
    "df_5 = pd.read_excel(r\"C:\\Users\\jsk57\\Downloads\\2023\\2023\\2023y5m.xlsx\") #5월 파일을 로드해서 df_5 변수에 담음.\n",
    "print(\"2023년 5월\")\n",
    "print(df_5)"
   ]
  },
  {
   "cell_type": "code",
   "execution_count": 8,
   "metadata": {},
   "outputs": [
    {
     "name": "stdout",
     "output_type": "stream",
     "text": [
      "2023년 6월\n",
      "            지역       망   측정소코드 측정소명        측정일시     SO2    CO      O3     NO2  \\\n",
      "0        서울 중구    도시대기  111121   중구  2023060101  0.0025  0.35  0.0447  0.0130   \n",
      "1        서울 중구    도시대기  111121   중구  2023060102  0.0023  0.36  0.0415  0.0126   \n",
      "2        서울 중구    도시대기  111121   중구  2023060103  0.0024  0.35  0.0412  0.0117   \n",
      "3        서울 중구    도시대기  111121   중구  2023060104  0.0024  0.36  0.0370  0.0125   \n",
      "4        서울 중구    도시대기  111121   중구  2023060105  0.0023  0.36  0.0342  0.0123   \n",
      "...        ...     ...     ...  ...         ...     ...   ...     ...     ...   \n",
      "465092  인천 옹진군  국가배경농도  831495   울도  2023063020  0.0016  0.40  0.0309  0.0116   \n",
      "465093  인천 옹진군  국가배경농도  831495   울도  2023063021  0.0016  0.40  0.0274  0.0091   \n",
      "465094  인천 옹진군  국가배경농도  831495   울도  2023063022  0.0017  0.40  0.0369  0.0055   \n",
      "465095  인천 옹진군  국가배경농도  831495   울도  2023063023  0.0017  0.40  0.0375  0.0040   \n",
      "465096  인천 옹진군  국가배경농도  831495   울도  2023063024  0.0015  0.40  0.0286  0.0101   \n",
      "\n",
      "        PM10  PM25                   주소  \n",
      "0       28.0  16.0        서울 중구 덕수궁길 15  \n",
      "1       24.0  16.0        서울 중구 덕수궁길 15  \n",
      "2       25.0  17.0        서울 중구 덕수궁길 15  \n",
      "3       26.0  17.0        서울 중구 덕수궁길 15  \n",
      "4       28.0  18.0        서울 중구 덕수궁길 15  \n",
      "...      ...   ...                  ...  \n",
      "465092  14.0   4.0  인천 옹진군 덕적면 울도리 85번지  \n",
      "465093  18.0   6.0  인천 옹진군 덕적면 울도리 85번지  \n",
      "465094  23.0   3.0  인천 옹진군 덕적면 울도리 85번지  \n",
      "465095  10.0   4.0  인천 옹진군 덕적면 울도리 85번지  \n",
      "465096  13.0   4.0  인천 옹진군 덕적면 울도리 85번지  \n",
      "\n",
      "[465097 rows x 12 columns]\n"
     ]
    }
   ],
   "source": [
    "df_6 = pd.read_excel(r\"C:\\Users\\jsk57\\Downloads\\2023\\2023\\2023y6m.xlsx\") #6월 파일을 로드해서 df_6 변수에 담음.\n",
    "print(\"2023년 6월\")\n",
    "print(df_6)"
   ]
  },
  {
   "cell_type": "code",
   "execution_count": 9,
   "metadata": {},
   "outputs": [
    {
     "name": "stdout",
     "output_type": "stream",
     "text": [
      "2023년 7월\n",
      "            지역       망   측정소코드 측정소명        측정일시     SO2    CO      O3     NO2  \\\n",
      "0        서울 중구    도시대기  111121   중구  2023070101  0.0027  0.41  0.0249  0.0188   \n",
      "1        서울 중구    도시대기  111121   중구  2023070102  0.0030  0.42  0.0263  0.0163   \n",
      "2        서울 중구    도시대기  111121   중구  2023070103  0.0027  0.42  0.0218  0.0192   \n",
      "3        서울 중구    도시대기  111121   중구  2023070104  0.0028  0.41  0.0131  0.0214   \n",
      "4        서울 중구    도시대기  111121   중구  2023070105  0.0021  0.43  0.0131  0.0160   \n",
      "...        ...     ...     ...  ...         ...     ...   ...     ...     ...   \n",
      "481363  인천 옹진군  국가배경농도  831495   울도  2023073120  0.0019  0.39  0.0186  0.0022   \n",
      "481364  인천 옹진군  국가배경농도  831495   울도  2023073121  0.0018  0.39  0.0192  0.0028   \n",
      "481365  인천 옹진군  국가배경농도  831495   울도  2023073122  0.0018  0.39  0.0157  0.0060   \n",
      "481366  인천 옹진군  국가배경농도  831495   울도  2023073123  0.0019  0.40  0.0146  0.0068   \n",
      "481367  인천 옹진군  국가배경농도  831495   울도  2023073124  0.0019  0.39  0.0146  0.0039   \n",
      "\n",
      "        PM10  PM25                   주소  \n",
      "0       21.0  19.0        서울 중구 덕수궁길 15  \n",
      "1       18.0  15.0        서울 중구 덕수궁길 15  \n",
      "2       24.0  21.0        서울 중구 덕수궁길 15  \n",
      "3       25.0  19.0        서울 중구 덕수궁길 15  \n",
      "4       25.0  21.0        서울 중구 덕수궁길 15  \n",
      "...      ...   ...                  ...  \n",
      "481363  16.0   9.0  인천 옹진군 덕적면 울도리 85번지  \n",
      "481364  10.0   6.0  인천 옹진군 덕적면 울도리 85번지  \n",
      "481365  15.0   6.0  인천 옹진군 덕적면 울도리 85번지  \n",
      "481366  17.0   5.0  인천 옹진군 덕적면 울도리 85번지  \n",
      "481367  15.0   5.0  인천 옹진군 덕적면 울도리 85번지  \n",
      "\n",
      "[481368 rows x 12 columns]\n"
     ]
    }
   ],
   "source": [
    "df_7 = pd.read_excel(r\"C:\\Users\\jsk57\\Downloads\\2023\\2023\\2023y7m.xlsx\") #7월 파일을 로드해서 df_7 변수에 담음.\n",
    "print(\"2023년 7월\")\n",
    "print(df_7)"
   ]
  },
  {
   "cell_type": "code",
   "execution_count": 10,
   "metadata": {},
   "outputs": [
    {
     "name": "stdout",
     "output_type": "stream",
     "text": [
      "2023년 8월\n",
      "            지역       망   측정소코드 측정소명        측정일시     SO2    CO      O3     NO2  \\\n",
      "0        서울 중구    도시대기  111121   중구  2023080101  0.0023  0.40  0.0146  0.0245   \n",
      "1        서울 중구    도시대기  111121   중구  2023080102  0.0023  0.35  0.0223  0.0181   \n",
      "2        서울 중구    도시대기  111121   중구  2023080103  0.0024  0.34  0.0184  0.0193   \n",
      "3        서울 중구    도시대기  111121   중구  2023080104  0.0023  0.33  0.0190  0.0173   \n",
      "4        서울 중구    도시대기  111121   중구  2023080105  0.0019  0.30  0.0216  0.0139   \n",
      "...        ...     ...     ...  ...         ...     ...   ...     ...     ...   \n",
      "483091  인천 옹진군  국가배경농도  831495   울도  2023083120  0.0020  0.53  0.0566  0.0029   \n",
      "483092  인천 옹진군  국가배경농도  831495   울도  2023083121  0.0019  0.52  0.0545  0.0028   \n",
      "483093  인천 옹진군  국가배경농도  831495   울도  2023083122  0.0019  0.50  0.0537  0.0028   \n",
      "483094  인천 옹진군  국가배경농도  831495   울도  2023083123  0.0019  0.52  0.0559  0.0028   \n",
      "483095  인천 옹진군  국가배경농도  831495   울도  2023083124  0.0020  0.54  0.0572  0.0032   \n",
      "\n",
      "        PM10  PM25                   주소  \n",
      "0        NaN  18.0        서울 중구 덕수궁길 15  \n",
      "1       18.0  15.0        서울 중구 덕수궁길 15  \n",
      "2        NaN  17.0        서울 중구 덕수궁길 15  \n",
      "3       17.0  15.0        서울 중구 덕수궁길 15  \n",
      "4       17.0  16.0        서울 중구 덕수궁길 15  \n",
      "...      ...   ...                  ...  \n",
      "483091  23.0  18.0  인천 옹진군 덕적면 울도리 85번지  \n",
      "483092  20.0  16.0  인천 옹진군 덕적면 울도리 85번지  \n",
      "483093  25.0  13.0  인천 옹진군 덕적면 울도리 85번지  \n",
      "483094  23.0  13.0  인천 옹진군 덕적면 울도리 85번지  \n",
      "483095  24.0  16.0  인천 옹진군 덕적면 울도리 85번지  \n",
      "\n",
      "[483096 rows x 12 columns]\n"
     ]
    }
   ],
   "source": [
    "df_8 = pd.read_excel(r\"C:\\Users\\jsk57\\Downloads\\2023\\2023\\2023y8m.xlsx\") #8월 파일을 로드해서 df_8 변수에 담음.\n",
    "print(\"2023년 8월\")\n",
    "print(df_8)"
   ]
  },
  {
   "cell_type": "code",
   "execution_count": 11,
   "metadata": {},
   "outputs": [
    {
     "name": "stdout",
     "output_type": "stream",
     "text": [
      "2023년 9월\n",
      "            지역       망   측정소코드 측정소명        측정일시     SO2    CO      O3     NO2  \\\n",
      "0        서울 중구    도시대기  111121   중구  2023090101  0.0026  0.49  0.0125  0.0236   \n",
      "1        서울 중구    도시대기  111121   중구  2023090102  0.0033  0.51  0.0076  0.0259   \n",
      "2        서울 중구    도시대기  111121   중구  2023090103  0.0028  0.46  0.0099  0.0206   \n",
      "3        서울 중구    도시대기  111121   중구  2023090104  0.0030  0.45  0.0106  0.0191   \n",
      "4        서울 중구    도시대기  111121   중구  2023090105  0.0028  0.43  0.0092  0.0185   \n",
      "...        ...     ...     ...  ...         ...     ...   ...     ...     ...   \n",
      "468115  인천 옹진군  국가배경농도  831495   울도  2023093020  0.0013  0.36  0.0593  0.0042   \n",
      "468116  인천 옹진군  국가배경농도  831495   울도  2023093021  0.0013  0.21  0.0495  0.0038   \n",
      "468117  인천 옹진군  국가배경농도  831495   울도  2023093022  0.0015  0.23  0.0487  0.0044   \n",
      "468118  인천 옹진군  국가배경농도  831495   울도  2023093023  0.0016  0.21  0.0486  0.0046   \n",
      "468119  인천 옹진군  국가배경농도  831495   울도  2023093024  0.0016  0.20  0.0491  0.0048   \n",
      "\n",
      "        PM10  PM25                   주소  \n",
      "0       16.0  10.0        서울 중구 덕수궁길 15  \n",
      "1       16.0  10.0        서울 중구 덕수궁길 15  \n",
      "2       18.0  11.0        서울 중구 덕수궁길 15  \n",
      "3       16.0   9.0        서울 중구 덕수궁길 15  \n",
      "4       19.0  11.0        서울 중구 덕수궁길 15  \n",
      "...      ...   ...                  ...  \n",
      "468115  44.0  20.0  인천 옹진군 덕적면 울도리 85번지  \n",
      "468116  63.0  12.0  인천 옹진군 덕적면 울도리 85번지  \n",
      "468117  61.0  12.0  인천 옹진군 덕적면 울도리 85번지  \n",
      "468118  48.0  14.0  인천 옹진군 덕적면 울도리 85번지  \n",
      "468119  38.0  11.0  인천 옹진군 덕적면 울도리 85번지  \n",
      "\n",
      "[468120 rows x 12 columns]\n"
     ]
    }
   ],
   "source": [
    "df_9 = pd.read_excel(r\"C:\\Users\\jsk57\\Downloads\\2023\\2023\\2023y9m.xlsx\") #9월 파일을 로드해서 df_9 변수에 담음.\n",
    "print(\"2023년 9월\")\n",
    "print(df_9)"
   ]
  },
  {
   "cell_type": "code",
   "execution_count": 12,
   "metadata": {},
   "outputs": [
    {
     "name": "stdout",
     "output_type": "stream",
     "text": [
      "2023년 10월\n",
      "            지역       망   측정소코드 측정소명        측정일시     SO2    CO      O3     NO2  \\\n",
      "0        서울 중구    도시대기  111121   중구  2023100101  0.0024  0.36  0.0386  0.0105   \n",
      "1        서울 중구    도시대기  111121   중구  2023100102  0.0026  0.37  0.0327  0.0122   \n",
      "2        서울 중구    도시대기  111121   중구  2023100103  0.0027  0.39  0.0322  0.0111   \n",
      "3        서울 중구    도시대기  111121   중구  2023100104  0.0030  0.35  0.0365  0.0084   \n",
      "4        서울 중구    도시대기  111121   중구  2023100105  0.0027  0.35  0.0361  0.0083   \n",
      "...        ...     ...     ...  ...         ...     ...   ...     ...     ...   \n",
      "484339  인천 옹진군  국가배경농도  831495   울도  2023103120  0.0018  0.46  0.0547  0.0035   \n",
      "484340  인천 옹진군  국가배경농도  831495   울도  2023103121  0.0018  0.45  0.0545  0.0037   \n",
      "484341  인천 옹진군  국가배경농도  831495   울도  2023103122  0.0019  0.44  0.0533  0.0055   \n",
      "484342  인천 옹진군  국가배경농도  831495   울도  2023103123  0.0019  0.44  0.0572  0.0034   \n",
      "484343  인천 옹진군  국가배경농도  831495   울도  2023103124  0.0019  0.43  0.0562  0.0039   \n",
      "\n",
      "        PM10  PM25                   주소  \n",
      "0       35.0   8.0        서울 중구 덕수궁길 15  \n",
      "1       37.0  13.0        서울 중구 덕수궁길 15  \n",
      "2       37.0  10.0        서울 중구 덕수궁길 15  \n",
      "3       33.0  10.0        서울 중구 덕수궁길 15  \n",
      "4       31.0   9.0        서울 중구 덕수궁길 15  \n",
      "...      ...   ...                  ...  \n",
      "484339  35.0  20.0  인천 옹진군 덕적면 울도리 85번지  \n",
      "484340  24.0  17.0  인천 옹진군 덕적면 울도리 85번지  \n",
      "484341  34.0  18.0  인천 옹진군 덕적면 울도리 85번지  \n",
      "484342  23.0  15.0  인천 옹진군 덕적면 울도리 85번지  \n",
      "484343  26.0  13.0  인천 옹진군 덕적면 울도리 85번지  \n",
      "\n",
      "[484344 rows x 12 columns]\n"
     ]
    }
   ],
   "source": [
    "df_10 = pd.read_excel(r\"C:\\Users\\jsk57\\Downloads\\2023\\2023\\2023y10m.xlsx\") #10월 파일을 로드해서 df_10 변수에 담음.\n",
    "print(\"2023년 10월\")\n",
    "print(df_10)"
   ]
  },
  {
   "cell_type": "code",
   "execution_count": 13,
   "metadata": {},
   "outputs": [
    {
     "name": "stdout",
     "output_type": "stream",
     "text": [
      "2023년 11월\n",
      "            지역       망   측정소코드 측정소명        측정일시     SO2    CO      O3     NO2  \\\n",
      "0        서울 중구    도시대기  111121   중구  2023110101  0.0031  0.39  0.0423  0.0124   \n",
      "1        서울 중구    도시대기  111121   중구  2023110102  0.0028  0.38  0.0428  0.0115   \n",
      "2        서울 중구    도시대기  111121   중구  2023110103  0.0028  0.36  0.0444  0.0096   \n",
      "3        서울 중구    도시대기  111121   중구  2023110104  0.0025  0.36  0.0433  0.0101   \n",
      "4        서울 중구    도시대기  111121   중구  2023110105  0.0032  0.37  0.0443  0.0099   \n",
      "...        ...     ...     ...  ...         ...     ...   ...     ...     ...   \n",
      "469099  인천 옹진군  국가배경농도  831495   울도  2023113020  0.0018  0.42  0.0378  0.0032   \n",
      "469100  인천 옹진군  국가배경농도  831495   울도  2023113021  0.0018  0.43  0.0382  0.0030   \n",
      "469101  인천 옹진군  국가배경농도  831495   울도  2023113022  0.0017  0.42  0.0377  0.0031   \n",
      "469102  인천 옹진군  국가배경농도  831495   울도  2023113023  0.0017  0.43  0.0375  0.0030   \n",
      "469103  인천 옹진군  국가배경농도  831495   울도  2023113024  0.0018  0.47  0.0362  0.0047   \n",
      "\n",
      "        PM10  PM25                   주소  \n",
      "0       37.0  26.0        서울 중구 덕수궁길 15  \n",
      "1       32.0  22.0        서울 중구 덕수궁길 15  \n",
      "2       31.0  23.0        서울 중구 덕수궁길 15  \n",
      "3       30.0  21.0        서울 중구 덕수궁길 15  \n",
      "4       31.0  19.0        서울 중구 덕수궁길 15  \n",
      "...      ...   ...                  ...  \n",
      "469099  23.0  11.0  인천 옹진군 덕적면 울도리 85번지  \n",
      "469100  16.0   9.0  인천 옹진군 덕적면 울도리 85번지  \n",
      "469101  19.0   9.0  인천 옹진군 덕적면 울도리 85번지  \n",
      "469102  18.0  10.0  인천 옹진군 덕적면 울도리 85번지  \n",
      "469103  17.0   8.0  인천 옹진군 덕적면 울도리 85번지  \n",
      "\n",
      "[469104 rows x 12 columns]\n"
     ]
    }
   ],
   "source": [
    "df_11 = pd.read_excel(r\"C:\\Users\\jsk57\\Downloads\\2023\\2023\\2023y11m.xlsx\") #11월 파일을 로드해서 df_11 변수에 담음.\n",
    "print(\"2023년 11월\")\n",
    "print(df_11)"
   ]
  },
  {
   "cell_type": "code",
   "execution_count": 14,
   "metadata": {},
   "outputs": [
    {
     "name": "stdout",
     "output_type": "stream",
     "text": [
      "2023년 12월\n",
      "            지역       망   측정소코드 측정소명        측정일시     SO2    CO      O3     NO2  \\\n",
      "0        서울 중구    도시대기  111121   중구  2023120101  0.0026  0.37  0.0245  0.0106   \n",
      "1        서울 중구    도시대기  111121   중구  2023120102  0.0027  0.36  0.0269  0.0070   \n",
      "2        서울 중구    도시대기  111121   중구  2023120103  0.0023  0.34  0.0268  0.0071   \n",
      "3        서울 중구    도시대기  111121   중구  2023120104  0.0025  0.39  0.0243  0.0102   \n",
      "4        서울 중구    도시대기  111121   중구  2023120105  0.0025  0.39  0.0208  0.0141   \n",
      "...        ...     ...     ...  ...         ...     ...   ...     ...     ...   \n",
      "485083  인천 옹진군  국가배경농도  831495   울도  2023123120  0.0010  0.73  0.0415  0.0086   \n",
      "485084  인천 옹진군  국가배경농도  831495   울도  2023123121  0.0013  0.73  0.0409  0.0095   \n",
      "485085  인천 옹진군  국가배경농도  831495   울도  2023123122  0.0014  0.77  0.0414  0.0111   \n",
      "485086  인천 옹진군  국가배경농도  831495   울도  2023123123  0.0013  0.71  0.0411  0.0112   \n",
      "485087  인천 옹진군  국가배경농도  831495   울도  2023123124  0.0015  0.74  0.0402  0.0098   \n",
      "\n",
      "        PM10  PM25                   주소  \n",
      "0       17.0  13.0        서울 중구 덕수궁길 15  \n",
      "1       18.0  10.0        서울 중구 덕수궁길 15  \n",
      "2       18.0  13.0        서울 중구 덕수궁길 15  \n",
      "3       17.0  10.0        서울 중구 덕수궁길 15  \n",
      "4       18.0  12.0        서울 중구 덕수궁길 15  \n",
      "...      ...   ...                  ...  \n",
      "485083  64.0  57.0  인천 옹진군 덕적면 울도리 85번지  \n",
      "485084  62.0  50.0  인천 옹진군 덕적면 울도리 85번지  \n",
      "485085  65.0  59.0  인천 옹진군 덕적면 울도리 85번지  \n",
      "485086  63.0  54.0  인천 옹진군 덕적면 울도리 85번지  \n",
      "485087  67.0  59.0  인천 옹진군 덕적면 울도리 85번지  \n",
      "\n",
      "[485088 rows x 12 columns]\n"
     ]
    }
   ],
   "source": [
    "df_12 = pd.read_excel(r\"C:\\Users\\jsk57\\Downloads\\2023\\2023\\2023y12m.xlsx\") #12월 파일을 로드해서 df_12 변수에 담음.\n",
    "print(\"2023년 12월\")\n",
    "print(df_12)"
   ]
  },
  {
   "cell_type": "code",
   "execution_count": 18,
   "metadata": {},
   "outputs": [
    {
     "name": "stdout",
     "output_type": "stream",
     "text": [
      "2023년 서울 지역 데이터\n",
      "             지역      망   측정소코드 측정소명        측정일시     SO2    CO      O3     NO2  \\\n",
      "0         서울 중구   도시대기  111121   중구  2023010101  0.0040  0.80  0.0040  0.0550   \n",
      "1         서울 중구   도시대기  111121   중구  2023010102  0.0040  0.80  0.0040  0.0510   \n",
      "2         서울 중구   도시대기  111121   중구  2023010103  0.0040  0.80  0.0050  0.0480   \n",
      "3         서울 중구   도시대기  111121   중구  2023010104  0.0040  0.70  0.0140  0.0320   \n",
      "4         서울 중구   도시대기  111121   중구  2023010105  0.0040  0.70  0.0210  0.0210   \n",
      "...         ...    ...     ...  ...         ...     ...   ...     ...     ...   \n",
      "5211956  서울 노원구  도로변대기  111312  화랑로  2023123120  0.0026  0.89  0.0022  0.0403   \n",
      "5211957  서울 노원구  도로변대기  111312  화랑로  2023123121  0.0027  0.94  0.0019  0.0364   \n",
      "5211958  서울 노원구  도로변대기  111312  화랑로  2023123122  0.0026  0.99  0.0019  0.0356   \n",
      "5211959  서울 노원구  도로변대기  111312  화랑로  2023123123  0.0019  0.95  0.0022  0.0275   \n",
      "5211960  서울 노원구  도로변대기  111312  화랑로  2023123124  0.0025  0.93  0.0020  0.0306   \n",
      "\n",
      "         PM10  PM25              주소  \n",
      "0        57.0  52.0   서울 중구 덕수궁길 15  \n",
      "1        65.0  60.0   서울 중구 덕수궁길 15  \n",
      "2        73.0  63.0   서울 중구 덕수궁길 15  \n",
      "3        76.0  71.0   서울 중구 덕수궁길 15  \n",
      "4        78.0  73.0   서울 중구 덕수궁길 15  \n",
      "...       ...   ...             ...  \n",
      "5211956  19.0  13.0  서울 노원구 화랑로 429  \n",
      "5211957  22.0  15.0  서울 노원구 화랑로 429  \n",
      "5211958  24.0  19.0  서울 노원구 화랑로 429  \n",
      "5211959  24.0  19.0  서울 노원구 화랑로 429  \n",
      "5211960  23.0  18.0  서울 노원구 화랑로 429  \n",
      "\n",
      "[350400 rows x 12 columns]\n"
     ]
    }
   ],
   "source": [
    "#데이터 전처리: 서울 지역 데이터 필터링(지역 및 주소 열을 활용함)\n",
    "df_list = [df_1, df_2, df_3, df_4, df_5, df_6, df_7, df_8, df_9, df_10, df_11, df_12] #1월-12월 데이터를 병합하여 df_list 변수에 담음\n",
    "df_2023 = pd.concat(df_list, ignore_index=True) #pd.concat 사용해서 데이터를 하나의 DataFrame으로 병합함. ignore_index=True로 기존 인덱스를 무시하고 새로운 인덱스를 생성함.\n",
    "\n",
    "df_seoul = df_2023[df_2023[\"지역\"].str.contains(\"서울\")] #데이터에서 \"서울\" 지역만 필터링 해서 df_seoul 변수에 담음\n",
    "\n",
    "print(\"2023년 서울 지역 데이터\")\n",
    "print(df_seoul)\n",
    "\n",
    "df_seoul.to_csv(r\"C:\\Users\\jsk57\\Downloads\\2023\\2023\\seoul_data.csv\", index=False, encoding='utf-8-sig') #필터링 된 데이터를 csv 파일로 노트북 로컬 폴더에 저장함. csv파일이 excel파일보다 용량도 절약되는 등 장점이 더 많다고 판단하여 csv로 저장함. 노트북의 좋지 않은 환경 특성상 해당 주피터노트북 파일이 작동하지 않을 때를 대비하여 로컬 파일로 저장한 것."
   ]
  },
  {
   "cell_type": "code",
   "execution_count": 19,
   "metadata": {},
   "outputs": [
    {
     "name": "stdout",
     "output_type": "stream",
     "text": [
      "지역           0\n",
      "망            0\n",
      "측정소코드        0\n",
      "측정소명         0\n",
      "측정일시         0\n",
      "SO2      10919\n",
      "CO       13392\n",
      "O3        6597\n",
      "NO2       6382\n",
      "PM10      8158\n",
      "PM25      6754\n",
      "주소           0\n",
      "dtype: int64\n"
     ]
    }
   ],
   "source": [
    "#데이터 전처리: 결측치 처리\n",
    "missing_summary = df_seoul.isnull().sum() #데이터의 결측치를 확인함\n",
    "print(missing_summary) "
   ]
  },
  {
   "cell_type": "code",
   "execution_count": 21,
   "metadata": {},
   "outputs": [],
   "source": [
    "#대기오염 물질 데이터(SO2, CO, O3, NO2, PM10, 0M25)에 결측치가 있음을 확인\n",
    "#시간적으로 연속성이 있는 데이터이므로 선형 보간법을 사용하여 결측치를 채움\n",
    "\n",
    "df_seoul = df_2023[df_2023[\"지역\"].str.contains(\"서울\")].copy() #copy() 매서드를 사용하여 원본 데이터에서 df_seoul을 생성할 때 명시적으로 복사본임을 지정. 해당 줄이 없으면 SettingWithCopyWarning 경고가 발생함.\n",
    "\n",
    "#보간법 적용\n",
    "df_seoul['SO2'] = df_seoul['SO2'].interpolate(method='linear')\n",
    "df_seoul['CO'] = df_seoul['CO'].interpolate(method='linear')\n",
    "df_seoul['O3'] = df_seoul['O3'].interpolate(method='linear')\n",
    "df_seoul['NO2'] = df_seoul['NO2'].interpolate(method='linear')\n",
    "df_seoul['PM10'] = df_seoul['PM10'].interpolate(method='linear')\n",
    "df_seoul['PM25'] = df_seoul['PM25'].interpolate(method='linear')"
   ]
  },
  {
   "cell_type": "code",
   "execution_count": 23,
   "metadata": {},
   "outputs": [
    {
     "name": "stdout",
     "output_type": "stream",
     "text": [
      "지역       0\n",
      "망        0\n",
      "측정소코드    0\n",
      "측정소명     0\n",
      "측정일시     0\n",
      "SO2      0\n",
      "CO       0\n",
      "O3       0\n",
      "NO2      0\n",
      "PM10     0\n",
      "PM25     0\n",
      "주소       0\n",
      "dtype: int64\n"
     ]
    }
   ],
   "source": [
    "#결측치가 남아있는지 확인함\n",
    "print(df_seoul.isnull().sum())"
   ]
  },
  {
   "cell_type": "code",
   "execution_count": 24,
   "metadata": {},
   "outputs": [
    {
     "name": "stdout",
     "output_type": "stream",
     "text": [
      "SO2 이상치 수: 9256\n",
      "CO 이상치 수: 15548\n",
      "O3 이상치 수: 7785\n",
      "NO2 이상치 수: 6305\n",
      "PM10 이상치 수: 22758\n",
      "PM25 이상치 수: 20437\n"
     ]
    }
   ],
   "source": [
    "#데이터 전처리: 이상치 처리 - 대기질 데이터에서 이상치는 장비 오류나 입력 오류로 인한 것일 가능성이 있음으로 이상치 제거 결정\n",
    "#이상치를 탐지하는 함수를 정의함.\n",
    "#특정 컬럼의 IQR(Interquartile Range)을 사용하여 이상치를 탐지함. 여기서 이상치는 Q1-1.5*IQR보다 작거나, Q3+1.5*IQR보다 큰 값을 의미함.\n",
    "def detect_outliers(df, column): #df는 DataFrame으로 이상치를 탐지할 데이터프레임이고, column은 str로 이상치를 탐지할 컬럼명임.\n",
    "    Q1 = df[column].quantile(0.25) #1사분위수(Q1): 데이터의 하위 25% 값을 구함.\n",
    "    Q3 = df[column].quantile(0.75) #3사분위수(Q3): 데이터의 삼위 25% 값을 구함.\n",
    "    IQR = Q3 - Q1 #3사분위수에서 1사분위수를 뺀 값으로, 데이터의 중간 50% 범위임.\n",
    "    lower_bound = Q1 - 1.5 * IQR #하한(lower_bound): IQR의 1.5배를 1사분위수에서 뺸 값으로, 이보다 작은 값을 이상치로 간주함.\n",
    "    upper_bound = Q3 + 1.5 * IQR #상한(upper_bound) = IQR의 1.5배를 3사분위수에 더한 값으로, 이보다 큰 값을 이상치로 간주함.\n",
    "    return df[(df[column] < lower_bound) | (df[column] > upper_bound)] #이상치 조건을 만족하는 행만 필터링하여 반환함.\n",
    "\n",
    "#SO2, CO, O3, NO2, PM10, PM25 컬럼에서 이상치를 탐지함.\n",
    "for col in ['SO2', 'CO', 'O3', 'NO2', 'PM10', 'PM25']:\n",
    "    outliers = detect_outliers(df_seoul, col) #각 컬럼별로 delete_outliers: 함수를 호출하여 이상치를 탐지함.\n",
    "    print(f'{col} 이상치 수: {len(outliers)}') #이상치 개수를 출력함."
   ]
  },
  {
   "cell_type": "code",
   "execution_count": 186,
   "metadata": {},
   "outputs": [],
   "source": [
    "# IQR을 활용한 이상치 탐지 후 NaN으로 대체\n",
    "for col in ['SO2', 'CO', 'O3', 'NO2', 'PM10', 'PM25']:\n",
    "    Q1 = df_seoul[col].quantile(0.25)\n",
    "    Q3 = df_seoul[col].quantile(0.75)\n",
    "    IQR = Q3 - Q1\n",
    "    lower_bound = Q1 - 1.5 * IQR\n",
    "    upper_bound = Q3 + 1.5 * IQR\n",
    "    \n",
    "    # 이상치를 NaN으로 대체\n",
    "    df_seoul.loc[(df_seoul[col] < lower_bound) | (df_seoul[col] > upper_bound), col] = None\n",
    "\n",
    "# 대기오염 물질의 시간적 연속성을 고려해 선형 보간법을 사용하여 NaN 대체\n",
    "for col in ['SO2', 'CO', 'O3', 'NO2', 'PM10', 'PM25']:\n",
    "    df_seoul[col] = df_seoul[col].interpolate(method='linear')\n",
    "    \n",
    "df_seoul.to_csv(r\"C:\\Users\\jsk57\\Downloads\\2023\\2023\\seoul_data_final.csv\", index=False, encoding='utf-8-sig') #필터링 된 데이터를 csv 파일로 노트북 로컬 폴더에 저장함."
   ]
  },
  {
   "cell_type": "code",
   "execution_count": 35,
   "metadata": {},
   "outputs": [
    {
     "data": {
      "image/png": "[encoded data removed]",
      "text/plain": [
       "<Figure size 576x288 with 1 Axes>"
      ]
     },
     "metadata": {
      "needs_background": "light"
     },
     "output_type": "display_data"
    },
    {
     "data": {
      "image/png": "[encoded data removed]",
      "text/plain": [
       "<Figure size 576x288 with 1 Axes>"
      ]
     },
     "metadata": {
      "needs_background": "light"
     },
     "output_type": "display_data"
    },
    {
     "data": {
      "image/png": "[encoded data removed]",
      "text/plain": [
       "<Figure size 576x288 with 1 Axes>"
      ]
     },
     "metadata": {
      "needs_background": "light"
     },
     "output_type": "display_data"
    },
    {
     "data": {
      "image/png": "[encoded data removed]",
      "text/plain": [
       "<Figure size 576x288 with 1 Axes>"
      ]
     },
     "metadata": {
      "needs_background": "light"
     },
     "output_type": "display_data"
    },
    {
     "data": {
      "image/png": "[encoded data removed]",
      "text/plain": [
       "<Figure size 576x288 with 1 Axes>"
      ]
     },
     "metadata": {
      "needs_background": "light"
     },
     "output_type": "display_data"
    },
    {
     "data": {
      "image/png": "[encoded data removed]",
      "text/plain": [
       "<Figure size 576x288 with 1 Axes>"
      ]
     },
     "metadata": {
      "needs_background": "light"
     },
     "output_type": "display_data"
    }
   ],
   "source": [
    "#이상치 처리 후 이상치가 있는지 확인함.\n",
    "import matplotlib.pyplot as plt #matplotlib 호출. 앞으로 plt라고 부르겠다는 의미.\n",
    "import matplotlib.font_manager as fm #matplotlib.font_manager 호출. 앞으로 fm이라고 부르겠다는 의미.\n",
    "\n",
    "#한글 폰트 경로 지정\n",
    "font_path = \"C:/Windows/Fonts/malgun.ttf\" #'맑은 고딕' 폰트 경로\n",
    "font_prop = fm.FontProperties(fname=font_path) #FontProperties를 통해 한글 폰트를 matplotlib에 추가함.\n",
    "\n",
    "# 이상치 처리 후 데이터 분포를 박스플롯을 통해 시각화함.\n",
    "for col in ['SO2', 'CO', 'O3', 'NO2', 'PM10', 'PM25']:\n",
    "    plt.figure(figsize=(8, 4)) #각 플롯의 크기를 지정함.\n",
    "    plt.boxplot(df_seoul[col].dropna(), vert=False) #dropna로 결측치를 제거하고 박스플롯을 생성함.\n",
    "    plt.title(f'{col} 이상치 처리 후 확인', fontproperties=font_prop) #플롯 제목 추가, 한글 폰트 적용.\n",
    "    plt.show() #플롯 표시"
   ]
  },
  {
   "cell_type": "code",
   "execution_count": 38,
   "metadata": {},
   "outputs": [
    {
     "data": {
      "image/png": "[encoded data removed]",
      "text/plain": [
       "<Figure size 576x288 with 1 Axes>"
      ]
     },
     "metadata": {
      "needs_background": "light"
     },
     "output_type": "display_data"
    },
    {
     "data": {
      "image/png": "[encoded data removed]",
      "text/plain": [
       "<Figure size 576x288 with 1 Axes>"
      ]
     },
     "metadata": {
      "needs_background": "light"
     },
     "output_type": "display_data"
    },
    {
     "data": {
      "image/png": "[encoded data removed]",
      "text/plain": [
       "<Figure size 576x288 with 1 Axes>"
      ]
     },
     "metadata": {
      "needs_background": "light"
     },
     "output_type": "display_data"
    },
    {
     "data": {
      "image/png": "[encoded data removed]",
      "text/plain": [
       "<Figure size 576x288 with 1 Axes>"
      ]
     },
     "metadata": {
      "needs_background": "light"
     },
     "output_type": "display_data"
    },
    {
     "data": {
      "image/png": "[encoded data removed]",
      "text/plain": [
       "<Figure size 576x288 with 1 Axes>"
      ]
     },
     "metadata": {
      "needs_background": "light"
     },
     "output_type": "display_data"
    },
    {
     "data": {
      "image/png": "[encoded data removed]",
      "text/plain": [
       "<Figure size 576x288 with 1 Axes>"
      ]
     },
     "metadata": {
      "needs_background": "light"
     },
     "output_type": "display_data"
    }
   ],
   "source": [
    "#이상치 제거 후 남은 데이터가 어떻게 분포되어 있는지 확인하기 위해 히스토그램을 이용함.\n",
    "\n",
    "for col in ['SO2', 'CO', 'O3', 'NO2', 'PM10', 'PM25']:\n",
    "    plt.figure(figsize=(8, 4)) #각 그래프의 크기를 지정함.\n",
    "    plt.hist(df_seoul[col].dropna(), bins=30, edgecolor='k') #dropna로 결측치를 제거하고 히스토그램을 생성함. bins=30으로 막대의 개수를 30으로 설정함. edgecolor='k'로 막대 테두리 색상을 검정색으로 설정함.\n",
    "    plt.title(f'{col} 데이터 분포', fontproperties=font_prop) #그래프 제목 추가, 한글 폰트 적용.\n",
    "    plt.xlabel(col) #x축 레이블 설정함. (분석 열 이름을 그대로 사용)\n",
    "    plt.ylabel('Frequency') #y축 레이블 설정함. (빈도수)\n",
    "    plt.show() #그래프 표시"
   ]
  },
  {
   "cell_type": "code",
   "execution_count": 67,
   "metadata": {},
   "outputs": [
    {
     "name": "stdout",
     "output_type": "stream",
     "text": [
      "      연도   월       SO2        CO        O3       NO2       PM10       PM25\n",
      "0   2023   1  0.003196  0.628317  0.014624  0.031689  48.749718  26.138330\n",
      "1   2023   2  0.003131  0.580045  0.020250  0.032152  47.570846  30.597190\n",
      "2   2023   3  0.003276  0.548346  0.030937  0.030529  69.497800  30.836541\n",
      "3   2023   4  0.002802  0.437169  0.035456  0.021885  63.864723  21.434249\n",
      "4   2023   5  0.002926  0.407343  0.038727  0.020694  40.007544  18.249760\n",
      "5   2023   6  0.002749  0.418704  0.044717  0.018351  29.586358  17.019302\n",
      "6   2023   7  0.002779  0.400013  0.034279  0.017241  27.347671  16.767018\n",
      "7   2023   8  0.002709  0.380741  0.032192  0.016027  22.158371  13.477359\n",
      "8   2023   9  0.002671  0.403432  0.029807  0.017011  21.389322  11.592595\n",
      "9   2023  10  0.002804  0.473810  0.024108  0.023655  29.178421  15.345701\n",
      "10  2023  11  0.002762  0.490386  0.021045  0.023855  31.596329  17.007544\n",
      "11  2023  12  0.002810  0.588518  0.016404  0.029831  37.108505  21.497539\n"
     ]
    }
   ],
   "source": [
    "#데이터 전처리: 월별 데이터를 추출할 수 있도록 연도, 월 열을 생성함.\n",
    "\n",
    "#측정일시를 문자열로 변환함.\n",
    "df_seoul['측정일시'] = df_seoul['측정일시'].astype(str)\n",
    "\n",
    "#측정일시가 정확히 10자리인지 확인하여 유효한 데이터만 필터링 함.\n",
    "df_seoul = df_seoul[df_seoul['측정일시'].str.len() == 10]\n",
    "\n",
    "#측정일시를 datetime 형식으로 변환함.\n",
    "df_seoul['측정일시'] = pd.to_datetime(df_seoul['측정일시'], format='%Y%m%d%H', errors='coerce')\n",
    "\n",
    "# datetime 변환 실패한 데이터를 제거함.\n",
    "df_seoul = df_seoul.dropna(subset=['측정일시'])\n",
    "\n",
    "#연도와 월을 추출하여 새로운 열 생성함.\n",
    "df_seoul['연도'] = df_seoul['측정일시'].dt.year\n",
    "df_seoul['월'] = df_seoul['측정일시'].dt.month\n",
    "\n",
    "#연도와 월별로 그룹화하여 평균값을 계산함.\n",
    "monthly_data = df_seoul.groupby(['연도', '월'])[['SO2', 'CO', 'O3', 'NO2', 'PM10', 'PM25']].mean().reset_index()\n",
    "\n",
    "print(monthly_data)"
   ]
  },
  {
   "cell_type": "code",
   "execution_count": 110,
   "metadata": {
    "scrolled": false
   },
   "outputs": [
    {
     "data": {
      "image/png": "[encoded data removed]",
      "text/plain": [
       "<Figure size 864x576 with 1 Axes>"
      ]
     },
     "metadata": {
      "needs_background": "light"
     },
     "output_type": "display_data"
    }
   ],
   "source": [
    "import matplotlib.pyplot as plt\n",
    "from matplotlib import rc\n",
    "import logging\n",
    "\n",
    "#'-'[U+2212] 관련 메시지가 뜨는 경우를 처리함. 시각화한 그래프가 매우 원활하게 나오고, 여기서 해당 메시지는 값에 영향을 미치지 않으므로 전혀 중요한 부분이 아니라고 판단함, \n",
    "#이번에만 matplotlib에서만 출력되는 로그 메시지를 차단하는 것이 시각화한 그래프를 보기에 더 적합하다고 결정.\n",
    "logging.getLogger('matplotlib').setLevel(logging.ERROR)\n",
    "\n",
    "rc('font', family=font_prop.get_name()) #한글 폰트 설정\n",
    "plt.rcParams['axes.unicode_minus'] = False  #마이너스 기호 문제 해결을 위해 사용함.\n",
    "\n",
    "plt.figure(figsize=(12, 8)) #그래프 크기 설정\n",
    "\n",
    "pollutants = ['SO2', 'CO', 'O3', 'NO2', 'PM10', 'PM25'] #오염 물질 리스트\n",
    "\n",
    "for pollutant in pollutants: #각 오염 물질에 대한 월별 평균 농도를 시각화함.\n",
    "    plt.plot(monthly_data['월'], monthly_data[pollutant], marker='o', label=pollutant) #각 물질별로 월별 데이터와 그래프에 플롯을 점과 선으로 표시함.\n",
    "\n",
    "#그래프 제목과 축 레이블을 설정함.\n",
    "plt.title('월별 평균 대기오염 물질 농도', fontsize=16) #제목\n",
    "plt.xlabel('월', fontsize=14) #x축 레이블\n",
    "plt.ylabel('농도 (평균)', fontsize=14) #y축 레이블 \n",
    "plt.yscale('log') #y축을 로그 스케일로 설정하여 값의 변화를 더 명확하게 보여주기 위해 사용함.\n",
    "plt.xticks(monthly_data['월'])  #x축 눈금 설정\n",
    "plt.legend(title='오염 물질', fontsize=12) #그래프 오른쪽에 오염 물질 이름을 표시하도록 범례를 추가함.\n",
    "plt.grid(True, linestyle='--', alpha=0.6) #그래프에 격자를 추가함. 가독성을 위해 점선 스타일로 설정함.\n",
    "\n",
    "plt.show() #그래프를 화면에 표시함."
   ]
  },
  {
   "cell_type": "code",
   "execution_count": 114,
   "metadata": {},
   "outputs": [],
   "source": [
    "#월별로 데이터를 CSV 파일로 저장함.\n",
    "monthly_data.to_csv(r\"C:\\Users\\jsk57\\Downloads\\2023\\2023\\monthly_data.csv\", index=False, encoding='utf-8-sig') #월별 데이터를 csv 파일로 노트북 로컬 폴더에 저장함."
   ]
  },
  {
   "cell_type": "code",
   "execution_count": 119,
   "metadata": {
    "scrolled": false
   },
   "outputs": [
    {
     "name": "stdout",
     "output_type": "stream",
     "text": [
      "         지역       SO2        CO        O3       NO2       PM10       PM25\n",
      "0    서울 강남구  0.003058  0.489611  0.028525  0.022859  39.457079  20.456279\n",
      "1    서울 강동구  0.002669  0.460747  0.025420  0.024265  39.461510  19.692027\n",
      "2    서울 강북구  0.002328  0.440975  0.034249  0.014425  38.068899  19.353231\n",
      "3    서울 강서구  0.002956  0.466875  0.029342  0.024922  41.688977  19.208669\n",
      "4    서울 관악구  0.002870  0.487079  0.031523  0.022662  41.450182  20.302013\n",
      "5    서울 광진구  0.002642  0.459482  0.029880  0.020136  36.395164  18.572955\n",
      "6    서울 구로구  0.002673  0.376652  0.028046  0.017121  39.470560  18.538359\n",
      "7    서울 금천구  0.003114  0.479012  0.025805  0.028290  38.863108  19.724231\n",
      "8    서울 노원구  0.002744  0.477615  0.026138  0.025251  39.245487  20.571058\n",
      "9    서울 도봉구  0.002645  0.501524  0.034464  0.015849  35.116268  18.619053\n",
      "10  서울 동대문구  0.003196  0.478214  0.029259  0.024060  38.651710  20.020599\n",
      "11   서울 동작구  0.002802  0.476703  0.030575  0.026722  39.091969  20.572208\n",
      "12   서울 마포구  0.002936  0.505153  0.027178  0.025333  39.190812  21.295267\n",
      "13  서울 서대문구  0.003115  0.466237  0.033967  0.016060  35.160260  18.010000\n",
      "14   서울 서초구  0.002837  0.484547  0.024878  0.025637  40.985587  20.088351\n",
      "15   서울 성동구  0.002816  0.465724  0.026461  0.025971  38.913186  19.831689\n",
      "16   서울 성북구  0.002788  0.512741  0.026617  0.026089  39.630354  20.112902\n",
      "17   서울 송파구  0.002585  0.462150  0.030422  0.024006  40.313721  19.925402\n",
      "18   서울 양천구  0.002893  0.472123  0.029920  0.021821  39.615347  20.881323\n",
      "19  서울 영등포구  0.002868  0.490074  0.027174  0.026880  38.406375  20.355621\n",
      "20   서울 용산구  0.003230  0.528303  0.030449  0.024712  42.655802  21.597360\n",
      "21   서울 은평구  0.002616  0.475989  0.030463  0.015584  37.141661  19.253829\n",
      "22   서울 종로구  0.003189  0.515540  0.028834  0.021980  36.842968  18.508071\n",
      "23    서울 중구  0.003068  0.480383  0.028906  0.023429  37.377448  20.048445\n",
      "24   서울 중랑구  0.002445  0.398227  0.030617  0.020169  36.157844  20.091216\n"
     ]
    }
   ],
   "source": [
    "#지역별로 평균 농도를 계산함.\n",
    "region_avg_data = df_seoul.groupby('지역')[['SO2', 'CO', 'O3', 'NO2', 'PM10', 'PM25']].mean().reset_index()\n",
    "print(region_avg_data)"
   ]
  },
  {
   "cell_type": "code",
   "execution_count": 137,
   "metadata": {},
   "outputs": [
    {
     "name": "stdout",
     "output_type": "stream",
     "text": [
      "         지역       전체평균\n",
      "0    서울 강남구  10.076235\n",
      "1    서울 강동구   9.944440\n",
      "2    서울 강북구   9.652351\n",
      "3    서울 강서구  10.236957\n",
      "4    서울 관악구  10.382721\n",
      "5    서울 광진구   9.246710\n",
      "6    서울 구로구   9.738902\n",
      "7    서울 금천구   9.853927\n",
      "8    서울 노원구  10.058049\n",
      "9    서울 도봉구   9.048300\n",
      "10  서울 동대문구   9.867840\n",
      "11   서울 동작구  10.033496\n",
      "12   서울 마포구  10.174447\n",
      "13  서울 서대문구   8.948273\n",
      "14   서울 서초구  10.268639\n",
      "15   서울 성동구   9.877641\n",
      "16   서울 성북구  10.051915\n",
      "17   서울 송파구  10.126381\n",
      "18   서울 양천구  10.170571\n",
      "19  서울 영등포구   9.884832\n",
      "20   서울 용산구  10.806643\n",
      "21   서울 은평구   9.486690\n",
      "22   서울 종로구   9.320097\n",
      "23    서울 중구   9.660280\n",
      "24   서울 중랑구   9.450086\n"
     ]
    }
   ],
   "source": [
    "#6종류 모두 인체에 유해하기에 전체평균의 값도 의미있을 것이라고 판단하여 각 지역별로 전체 평균을 구함.\n",
    "region_avg_data['전체평균'] = region_avg_data[['SO2', 'CO', 'O3', 'NO2', 'PM10', 'PM25']].mean(axis=1)\n",
    "print(region_avg_data[['지역', '전체평균']]) "
   ]
  },
  {
   "cell_type": "code",
   "execution_count": 122,
   "metadata": {},
   "outputs": [
    {
     "name": "stdout",
     "output_type": "stream",
     "text": [
      "Collecting jinja2\n",
      "  Downloading jinja2-3.1.4-py3-none-any.whl (133 kB)\n",
      "Collecting MarkupSafe>=2.0\n",
      "  Downloading MarkupSafe-2.1.5-cp37-cp37m-win_amd64.whl (17 kB)\n",
      "Installing collected packages: MarkupSafe, jinja2\n",
      "  Attempting uninstall: MarkupSafe\n",
      "    Found existing installation: MarkupSafe 1.1.1\n",
      "    Uninstalling MarkupSafe-1.1.1:\n",
      "      Successfully uninstalled MarkupSafe-1.1.1\n",
      "  Attempting uninstall: jinja2\n",
      "    Found existing installation: Jinja2 2.11.1\n",
      "    Uninstalling Jinja2-2.11.1:\n",
      "      Successfully uninstalled Jinja2-2.11.1\n",
      "Successfully installed MarkupSafe-2.1.5 jinja2-3.1.4\n"
     ]
    }
   ],
   "source": [
    "#folium 라이브러리가 사용하는 branca 패키지가 jinja2 버전 3.0 이상을 필요로 하므로 호환을 위해 최신 버전으로 업데이트 함.\n",
    "!pip install --upgrade jinja2"
   ]
  },
  {
   "cell_type": "code",
   "execution_count": 123,
   "metadata": {},
   "outputs": [
    {
     "name": "stdout",
     "output_type": "stream",
     "text": [
      "Requirement already satisfied: folium in c:\\users\\jsk57\\anaconda3\\lib\\site-packages (0.16.0)\n",
      "Requirement already satisfied: branca>=0.6.0 in c:\\users\\jsk57\\anaconda3\\lib\\site-packages (from folium) (0.8.0)\n",
      "Requirement already satisfied: xyzservices in c:\\users\\jsk57\\anaconda3\\lib\\site-packages (from folium) (2023.2.0)\n",
      "Requirement already satisfied: numpy in c:\\users\\jsk57\\anaconda3\\lib\\site-packages (from folium) (1.18.1)\n",
      "Requirement already satisfied: requests in c:\\users\\jsk57\\anaconda3\\lib\\site-packages (from folium) (2.22.0)\n",
      "Requirement already satisfied: jinja2>=2.9 in c:\\users\\jsk57\\anaconda3\\lib\\site-packages (from folium) (3.1.4)\n",
      "Requirement already satisfied: urllib3!=1.25.0,!=1.25.1,<1.26,>=1.21.1 in c:\\users\\jsk57\\anaconda3\\lib\\site-packages (from requests->folium) (1.25.8)\n",
      "Requirement already satisfied: idna<2.9,>=2.5 in c:\\users\\jsk57\\anaconda3\\lib\\site-packages (from requests->folium) (2.8)\n",
      "Requirement already satisfied: chardet<3.1.0,>=3.0.2 in c:\\users\\jsk57\\anaconda3\\lib\\site-packages (from requests->folium) (3.0.4)\n",
      "Requirement already satisfied: certifi>=2017.4.17 in c:\\users\\jsk57\\anaconda3\\lib\\site-packages (from requests->folium) (2019.11.28)\n",
      "Requirement already satisfied: MarkupSafe>=2.0 in c:\\users\\jsk57\\anaconda3\\lib\\site-packages (from jinja2>=2.9->folium) (2.1.5)\n"
     ]
    }
   ],
   "source": [
    "#folium 지도 시각화를 위해 설치함.\n",
    "!pip install folium"
   ]
  },
  {
   "cell_type": "code",
   "execution_count": 145,
   "metadata": {
    "scrolled": true
   },
   "outputs": [
    {
     "data": {
      "text/html": [
       "<div style=\"width:100%;\"><div style=\"position:relative;width:100%;height:0;padding-bottom:60%;\"><span style=\"color:#565656\">Make this Notebook Trusted to load map: File -> Trust Notebook</span><iframe srcdoc=\"&lt;!DOCTYPE html&gt;\n",
       "&lt;html&gt;\n",
       "&lt;head&gt;\n",
       "    \n",
       "    &lt;meta http-equiv=&quot;content-type&quot; content=&quot;text/html; charset=UTF-8&quot; /&gt;\n",
       "    \n",
       "        &lt;script&gt;\n",
       "            L_NO_TOUCH = false;\n",
       "            L_DISABLE_3D = false;\n",
       "        &lt;/script&gt;\n",
       "    \n",
       "    &lt;style&gt;html, body {width: 100%;height: 100%;margin: 0;padding: 0;}&lt;/style&gt;\n",
       "    &lt;style&gt;#map {position:absolute;top:0;bottom:0;right:0;left:0;}&lt;/style&gt;\n",
       "    &lt;script src=&quot;https://cdn.jsdelivr.net/npm/leaflet@1.9.3/dist/leaflet.js&quot;&gt;&lt;/script&gt;\n",
       "    &lt;script src=&quot;https://code.jquery.com/jquery-3.7.1.min.js&quot;&gt;&lt;/script&gt;\n",
       "    &lt;script src=&quot;https://cdn.jsdelivr.net/npm/bootstrap@5.2.2/dist/js/bootstrap.bundle.min.js&quot;&gt;&lt;/script&gt;\n",
       "    &lt;script src=&quot;https://cdnjs.cloudflare.com/ajax/libs/Leaflet.awesome-markers/2.0.2/leaflet.awesome-markers.js&quot;&gt;&lt;/script&gt;\n",
       "    &lt;link rel=&quot;stylesheet&quot; href=&quot;https://cdn.jsdelivr.net/npm/leaflet@1.9.3/dist/leaflet.css&quot;/&gt;\n",
       "    &lt;link rel=&quot;stylesheet&quot; href=&quot;https://cdn.jsdelivr.net/npm/bootstrap@5.2.2/dist/css/bootstrap.min.css&quot;/&gt;\n",
       "    &lt;link rel=&quot;stylesheet&quot; href=&quot;https://netdna.bootstrapcdn.com/bootstrap/3.0.0/css/bootstrap.min.css&quot;/&gt;\n",
       "    &lt;link rel=&quot;stylesheet&quot; href=&quot;https://cdn.jsdelivr.net/npm/@fortawesome/fontawesome-free@6.2.0/css/all.min.css&quot;/&gt;\n",
       "    &lt;link rel=&quot;stylesheet&quot; href=&quot;https://cdnjs.cloudflare.com/ajax/libs/Leaflet.awesome-markers/2.0.2/leaflet.awesome-markers.css&quot;/&gt;\n",
       "    &lt;link rel=&quot;stylesheet&quot; href=&quot;https://cdn.jsdelivr.net/gh/python-visualization/folium/folium/templates/leaflet.awesome.rotate.min.css&quot;/&gt;\n",
       "    \n",
       "            &lt;meta name=&quot;viewport&quot; content=&quot;width=device-width,\n",
       "                initial-scale=1.0, maximum-scale=1.0, user-scalable=no&quot; /&gt;\n",
       "            &lt;style&gt;\n",
       "                #map_20b5fb83f0a3d6d6ae0afc52c930a9ef {\n",
       "                    position: relative;\n",
       "                    width: 100.0%;\n",
       "                    height: 100.0%;\n",
       "                    left: 0.0%;\n",
       "                    top: 0.0%;\n",
       "                }\n",
       "                .leaflet-container { font-size: 1rem; }\n",
       "            &lt;/style&gt;\n",
       "        \n",
       "&lt;/head&gt;\n",
       "&lt;body&gt;\n",
       "    \n",
       "    \n",
       "            &lt;div class=&quot;folium-map&quot; id=&quot;map_20b5fb83f0a3d6d6ae0afc52c930a9ef&quot; &gt;&lt;/div&gt;\n",
       "        \n",
       "&lt;/body&gt;\n",
       "&lt;script&gt;\n",
       "    \n",
       "    \n",
       "            var map_20b5fb83f0a3d6d6ae0afc52c930a9ef = L.map(\n",
       "                &quot;map_20b5fb83f0a3d6d6ae0afc52c930a9ef&quot;,\n",
       "                {\n",
       "                    center: [37.5665, 126.978],\n",
       "                    crs: L.CRS.EPSG3857,\n",
       "                    zoom: 11,\n",
       "                    zoomControl: true,\n",
       "                    preferCanvas: false,\n",
       "                }\n",
       "            );\n",
       "\n",
       "            \n",
       "\n",
       "        \n",
       "    \n",
       "            var tile_layer_c600fbffb8b231f9ead258597c2b3297 = L.tileLayer(\n",
       "                &quot;https://tile.openstreetmap.org/{z}/{x}/{y}.png&quot;,\n",
       "                {&quot;attribution&quot;: &quot;\\u0026copy; \\u003ca href=\\&quot;https://www.openstreetmap.org/copyright\\&quot;\\u003eOpenStreetMap\\u003c/a\\u003e contributors&quot;, &quot;detectRetina&quot;: false, &quot;maxNativeZoom&quot;: 19, &quot;maxZoom&quot;: 19, &quot;minZoom&quot;: 0, &quot;noWrap&quot;: false, &quot;opacity&quot;: 1, &quot;subdomains&quot;: &quot;abc&quot;, &quot;tms&quot;: false}\n",
       "            );\n",
       "        \n",
       "    \n",
       "            tile_layer_c600fbffb8b231f9ead258597c2b3297.addTo(map_20b5fb83f0a3d6d6ae0afc52c930a9ef);\n",
       "        \n",
       "    \n",
       "            var circle_marker_783e6a81efb3321186f903c8c5de45c6 = L.circleMarker(\n",
       "                [37.5172, 127.0473],\n",
       "                {&quot;bubblingMouseEvents&quot;: true, &quot;color&quot;: &quot;red&quot;, &quot;dashArray&quot;: null, &quot;dashOffset&quot;: null, &quot;fill&quot;: true, &quot;fillColor&quot;: &quot;red&quot;, &quot;fillOpacity&quot;: 0.7, &quot;fillRule&quot;: &quot;evenodd&quot;, &quot;lineCap&quot;: &quot;round&quot;, &quot;lineJoin&quot;: &quot;round&quot;, &quot;opacity&quot;: 1.0, &quot;radius&quot;: 12, &quot;stroke&quot;: true, &quot;weight&quot;: 3}\n",
       "            ).addTo(map_20b5fb83f0a3d6d6ae0afc52c930a9ef);\n",
       "        \n",
       "    \n",
       "            circle_marker_783e6a81efb3321186f903c8c5de45c6.bindTooltip(\n",
       "                `&lt;div&gt;\n",
       "                     &lt;b&gt;지역:&lt;/b&gt; 서울 강남구&lt;br&gt;&lt;b&gt;전체평균:&lt;/b&gt; 10.0762\n",
       "                 &lt;/div&gt;`,\n",
       "                {&quot;sticky&quot;: true}\n",
       "            );\n",
       "        \n",
       "    \n",
       "            var circle_marker_2daf33064e5d5b002ffd489b27b53050 = L.circleMarker(\n",
       "                [37.5301, 127.1238],\n",
       "                {&quot;bubblingMouseEvents&quot;: true, &quot;color&quot;: &quot;orange&quot;, &quot;dashArray&quot;: null, &quot;dashOffset&quot;: null, &quot;fill&quot;: true, &quot;fillColor&quot;: &quot;orange&quot;, &quot;fillOpacity&quot;: 0.7, &quot;fillRule&quot;: &quot;evenodd&quot;, &quot;lineCap&quot;: &quot;round&quot;, &quot;lineJoin&quot;: &quot;round&quot;, &quot;opacity&quot;: 1.0, &quot;radius&quot;: 10, &quot;stroke&quot;: true, &quot;weight&quot;: 3}\n",
       "            ).addTo(map_20b5fb83f0a3d6d6ae0afc52c930a9ef);\n",
       "        \n",
       "    \n",
       "            circle_marker_2daf33064e5d5b002ffd489b27b53050.bindTooltip(\n",
       "                `&lt;div&gt;\n",
       "                     &lt;b&gt;지역:&lt;/b&gt; 서울 강동구&lt;br&gt;&lt;b&gt;전체평균:&lt;/b&gt; 9.9444\n",
       "                 &lt;/div&gt;`,\n",
       "                {&quot;sticky&quot;: true}\n",
       "            );\n",
       "        \n",
       "    \n",
       "            var circle_marker_f82e3aa9833586a10ba90727b30d97c9 = L.circleMarker(\n",
       "                [37.6396, 127.0257],\n",
       "                {&quot;bubblingMouseEvents&quot;: true, &quot;color&quot;: &quot;orange&quot;, &quot;dashArray&quot;: null, &quot;dashOffset&quot;: null, &quot;fill&quot;: true, &quot;fillColor&quot;: &quot;orange&quot;, &quot;fillOpacity&quot;: 0.7, &quot;fillRule&quot;: &quot;evenodd&quot;, &quot;lineCap&quot;: &quot;round&quot;, &quot;lineJoin&quot;: &quot;round&quot;, &quot;opacity&quot;: 1.0, &quot;radius&quot;: 10, &quot;stroke&quot;: true, &quot;weight&quot;: 3}\n",
       "            ).addTo(map_20b5fb83f0a3d6d6ae0afc52c930a9ef);\n",
       "        \n",
       "    \n",
       "            circle_marker_f82e3aa9833586a10ba90727b30d97c9.bindTooltip(\n",
       "                `&lt;div&gt;\n",
       "                     &lt;b&gt;지역:&lt;/b&gt; 서울 강북구&lt;br&gt;&lt;b&gt;전체평균:&lt;/b&gt; 9.6524\n",
       "                 &lt;/div&gt;`,\n",
       "                {&quot;sticky&quot;: true}\n",
       "            );\n",
       "        \n",
       "    \n",
       "            var circle_marker_2723a27e1159d13b6347b1b619560dac = L.circleMarker(\n",
       "                [37.5509, 126.8495],\n",
       "                {&quot;bubblingMouseEvents&quot;: true, &quot;color&quot;: &quot;red&quot;, &quot;dashArray&quot;: null, &quot;dashOffset&quot;: null, &quot;fill&quot;: true, &quot;fillColor&quot;: &quot;red&quot;, &quot;fillOpacity&quot;: 0.7, &quot;fillRule&quot;: &quot;evenodd&quot;, &quot;lineCap&quot;: &quot;round&quot;, &quot;lineJoin&quot;: &quot;round&quot;, &quot;opacity&quot;: 1.0, &quot;radius&quot;: 12, &quot;stroke&quot;: true, &quot;weight&quot;: 3}\n",
       "            ).addTo(map_20b5fb83f0a3d6d6ae0afc52c930a9ef);\n",
       "        \n",
       "    \n",
       "            circle_marker_2723a27e1159d13b6347b1b619560dac.bindTooltip(\n",
       "                `&lt;div&gt;\n",
       "                     &lt;b&gt;지역:&lt;/b&gt; 서울 강서구&lt;br&gt;&lt;b&gt;전체평균:&lt;/b&gt; 10.2370\n",
       "                 &lt;/div&gt;`,\n",
       "                {&quot;sticky&quot;: true}\n",
       "            );\n",
       "        \n",
       "    \n",
       "            var circle_marker_f167c0021dd7d2ca6e98a5cae773a617 = L.circleMarker(\n",
       "                [37.4784, 126.9516],\n",
       "                {&quot;bubblingMouseEvents&quot;: true, &quot;color&quot;: &quot;red&quot;, &quot;dashArray&quot;: null, &quot;dashOffset&quot;: null, &quot;fill&quot;: true, &quot;fillColor&quot;: &quot;red&quot;, &quot;fillOpacity&quot;: 0.7, &quot;fillRule&quot;: &quot;evenodd&quot;, &quot;lineCap&quot;: &quot;round&quot;, &quot;lineJoin&quot;: &quot;round&quot;, &quot;opacity&quot;: 1.0, &quot;radius&quot;: 12, &quot;stroke&quot;: true, &quot;weight&quot;: 3}\n",
       "            ).addTo(map_20b5fb83f0a3d6d6ae0afc52c930a9ef);\n",
       "        \n",
       "    \n",
       "            circle_marker_f167c0021dd7d2ca6e98a5cae773a617.bindTooltip(\n",
       "                `&lt;div&gt;\n",
       "                     &lt;b&gt;지역:&lt;/b&gt; 서울 관악구&lt;br&gt;&lt;b&gt;전체평균:&lt;/b&gt; 10.3827\n",
       "                 &lt;/div&gt;`,\n",
       "                {&quot;sticky&quot;: true}\n",
       "            );\n",
       "        \n",
       "    \n",
       "            var circle_marker_40e4cae445c72a1b2a14f1909e2ea21f = L.circleMarker(\n",
       "                [37.5384, 127.0823],\n",
       "                {&quot;bubblingMouseEvents&quot;: true, &quot;color&quot;: &quot;orange&quot;, &quot;dashArray&quot;: null, &quot;dashOffset&quot;: null, &quot;fill&quot;: true, &quot;fillColor&quot;: &quot;orange&quot;, &quot;fillOpacity&quot;: 0.7, &quot;fillRule&quot;: &quot;evenodd&quot;, &quot;lineCap&quot;: &quot;round&quot;, &quot;lineJoin&quot;: &quot;round&quot;, &quot;opacity&quot;: 1.0, &quot;radius&quot;: 10, &quot;stroke&quot;: true, &quot;weight&quot;: 3}\n",
       "            ).addTo(map_20b5fb83f0a3d6d6ae0afc52c930a9ef);\n",
       "        \n",
       "    \n",
       "            circle_marker_40e4cae445c72a1b2a14f1909e2ea21f.bindTooltip(\n",
       "                `&lt;div&gt;\n",
       "                     &lt;b&gt;지역:&lt;/b&gt; 서울 광진구&lt;br&gt;&lt;b&gt;전체평균:&lt;/b&gt; 9.2467\n",
       "                 &lt;/div&gt;`,\n",
       "                {&quot;sticky&quot;: true}\n",
       "            );\n",
       "        \n",
       "    \n",
       "            var circle_marker_6bd9e624528e90e513b49b0e7426f46c = L.circleMarker(\n",
       "                [37.4955, 126.8875],\n",
       "                {&quot;bubblingMouseEvents&quot;: true, &quot;color&quot;: &quot;orange&quot;, &quot;dashArray&quot;: null, &quot;dashOffset&quot;: null, &quot;fill&quot;: true, &quot;fillColor&quot;: &quot;orange&quot;, &quot;fillOpacity&quot;: 0.7, &quot;fillRule&quot;: &quot;evenodd&quot;, &quot;lineCap&quot;: &quot;round&quot;, &quot;lineJoin&quot;: &quot;round&quot;, &quot;opacity&quot;: 1.0, &quot;radius&quot;: 10, &quot;stroke&quot;: true, &quot;weight&quot;: 3}\n",
       "            ).addTo(map_20b5fb83f0a3d6d6ae0afc52c930a9ef);\n",
       "        \n",
       "    \n",
       "            circle_marker_6bd9e624528e90e513b49b0e7426f46c.bindTooltip(\n",
       "                `&lt;div&gt;\n",
       "                     &lt;b&gt;지역:&lt;/b&gt; 서울 구로구&lt;br&gt;&lt;b&gt;전체평균:&lt;/b&gt; 9.7389\n",
       "                 &lt;/div&gt;`,\n",
       "                {&quot;sticky&quot;: true}\n",
       "            );\n",
       "        \n",
       "    \n",
       "            var circle_marker_470299e0b183db73fbf7d1791b1913b1 = L.circleMarker(\n",
       "                [37.4564, 126.8959],\n",
       "                {&quot;bubblingMouseEvents&quot;: true, &quot;color&quot;: &quot;orange&quot;, &quot;dashArray&quot;: null, &quot;dashOffset&quot;: null, &quot;fill&quot;: true, &quot;fillColor&quot;: &quot;orange&quot;, &quot;fillOpacity&quot;: 0.7, &quot;fillRule&quot;: &quot;evenodd&quot;, &quot;lineCap&quot;: &quot;round&quot;, &quot;lineJoin&quot;: &quot;round&quot;, &quot;opacity&quot;: 1.0, &quot;radius&quot;: 10, &quot;stroke&quot;: true, &quot;weight&quot;: 3}\n",
       "            ).addTo(map_20b5fb83f0a3d6d6ae0afc52c930a9ef);\n",
       "        \n",
       "    \n",
       "            circle_marker_470299e0b183db73fbf7d1791b1913b1.bindTooltip(\n",
       "                `&lt;div&gt;\n",
       "                     &lt;b&gt;지역:&lt;/b&gt; 서울 금천구&lt;br&gt;&lt;b&gt;전체평균:&lt;/b&gt; 9.8539\n",
       "                 &lt;/div&gt;`,\n",
       "                {&quot;sticky&quot;: true}\n",
       "            );\n",
       "        \n",
       "    \n",
       "            var circle_marker_1bc50308a1cb3cd9c0ed30fee0767e83 = L.circleMarker(\n",
       "                [37.6543, 127.0568],\n",
       "                {&quot;bubblingMouseEvents&quot;: true, &quot;color&quot;: &quot;red&quot;, &quot;dashArray&quot;: null, &quot;dashOffset&quot;: null, &quot;fill&quot;: true, &quot;fillColor&quot;: &quot;red&quot;, &quot;fillOpacity&quot;: 0.7, &quot;fillRule&quot;: &quot;evenodd&quot;, &quot;lineCap&quot;: &quot;round&quot;, &quot;lineJoin&quot;: &quot;round&quot;, &quot;opacity&quot;: 1.0, &quot;radius&quot;: 12, &quot;stroke&quot;: true, &quot;weight&quot;: 3}\n",
       "            ).addTo(map_20b5fb83f0a3d6d6ae0afc52c930a9ef);\n",
       "        \n",
       "    \n",
       "            circle_marker_1bc50308a1cb3cd9c0ed30fee0767e83.bindTooltip(\n",
       "                `&lt;div&gt;\n",
       "                     &lt;b&gt;지역:&lt;/b&gt; 서울 노원구&lt;br&gt;&lt;b&gt;전체평균:&lt;/b&gt; 10.0580\n",
       "                 &lt;/div&gt;`,\n",
       "                {&quot;sticky&quot;: true}\n",
       "            );\n",
       "        \n",
       "    \n",
       "            var circle_marker_a1a44016ebd50a3df4b60606905671c7 = L.circleMarker(\n",
       "                [37.6688, 127.0472],\n",
       "                {&quot;bubblingMouseEvents&quot;: true, &quot;color&quot;: &quot;orange&quot;, &quot;dashArray&quot;: null, &quot;dashOffset&quot;: null, &quot;fill&quot;: true, &quot;fillColor&quot;: &quot;orange&quot;, &quot;fillOpacity&quot;: 0.7, &quot;fillRule&quot;: &quot;evenodd&quot;, &quot;lineCap&quot;: &quot;round&quot;, &quot;lineJoin&quot;: &quot;round&quot;, &quot;opacity&quot;: 1.0, &quot;radius&quot;: 10, &quot;stroke&quot;: true, &quot;weight&quot;: 3}\n",
       "            ).addTo(map_20b5fb83f0a3d6d6ae0afc52c930a9ef);\n",
       "        \n",
       "    \n",
       "            circle_marker_a1a44016ebd50a3df4b60606905671c7.bindTooltip(\n",
       "                `&lt;div&gt;\n",
       "                     &lt;b&gt;지역:&lt;/b&gt; 서울 도봉구&lt;br&gt;&lt;b&gt;전체평균:&lt;/b&gt; 9.0483\n",
       "                 &lt;/div&gt;`,\n",
       "                {&quot;sticky&quot;: true}\n",
       "            );\n",
       "        \n",
       "    \n",
       "            var circle_marker_b3b561476b51210e31658344b538c27f = L.circleMarker(\n",
       "                [37.5744, 127.0399],\n",
       "                {&quot;bubblingMouseEvents&quot;: true, &quot;color&quot;: &quot;orange&quot;, &quot;dashArray&quot;: null, &quot;dashOffset&quot;: null, &quot;fill&quot;: true, &quot;fillColor&quot;: &quot;orange&quot;, &quot;fillOpacity&quot;: 0.7, &quot;fillRule&quot;: &quot;evenodd&quot;, &quot;lineCap&quot;: &quot;round&quot;, &quot;lineJoin&quot;: &quot;round&quot;, &quot;opacity&quot;: 1.0, &quot;radius&quot;: 10, &quot;stroke&quot;: true, &quot;weight&quot;: 3}\n",
       "            ).addTo(map_20b5fb83f0a3d6d6ae0afc52c930a9ef);\n",
       "        \n",
       "    \n",
       "            circle_marker_b3b561476b51210e31658344b538c27f.bindTooltip(\n",
       "                `&lt;div&gt;\n",
       "                     &lt;b&gt;지역:&lt;/b&gt; 서울 동대문구&lt;br&gt;&lt;b&gt;전체평균:&lt;/b&gt; 9.8678\n",
       "                 &lt;/div&gt;`,\n",
       "                {&quot;sticky&quot;: true}\n",
       "            );\n",
       "        \n",
       "    \n",
       "            var circle_marker_73747929bd4c87d0ec54f0dc6cd173d1 = L.circleMarker(\n",
       "                [37.5124, 126.9393],\n",
       "                {&quot;bubblingMouseEvents&quot;: true, &quot;color&quot;: &quot;red&quot;, &quot;dashArray&quot;: null, &quot;dashOffset&quot;: null, &quot;fill&quot;: true, &quot;fillColor&quot;: &quot;red&quot;, &quot;fillOpacity&quot;: 0.7, &quot;fillRule&quot;: &quot;evenodd&quot;, &quot;lineCap&quot;: &quot;round&quot;, &quot;lineJoin&quot;: &quot;round&quot;, &quot;opacity&quot;: 1.0, &quot;radius&quot;: 12, &quot;stroke&quot;: true, &quot;weight&quot;: 3}\n",
       "            ).addTo(map_20b5fb83f0a3d6d6ae0afc52c930a9ef);\n",
       "        \n",
       "    \n",
       "            circle_marker_73747929bd4c87d0ec54f0dc6cd173d1.bindTooltip(\n",
       "                `&lt;div&gt;\n",
       "                     &lt;b&gt;지역:&lt;/b&gt; 서울 동작구&lt;br&gt;&lt;b&gt;전체평균:&lt;/b&gt; 10.0335\n",
       "                 &lt;/div&gt;`,\n",
       "                {&quot;sticky&quot;: true}\n",
       "            );\n",
       "        \n",
       "    \n",
       "            var circle_marker_ec08b2fc1e75a83930175ab72b609de9 = L.circleMarker(\n",
       "                [37.5638, 126.9084],\n",
       "                {&quot;bubblingMouseEvents&quot;: true, &quot;color&quot;: &quot;red&quot;, &quot;dashArray&quot;: null, &quot;dashOffset&quot;: null, &quot;fill&quot;: true, &quot;fillColor&quot;: &quot;red&quot;, &quot;fillOpacity&quot;: 0.7, &quot;fillRule&quot;: &quot;evenodd&quot;, &quot;lineCap&quot;: &quot;round&quot;, &quot;lineJoin&quot;: &quot;round&quot;, &quot;opacity&quot;: 1.0, &quot;radius&quot;: 12, &quot;stroke&quot;: true, &quot;weight&quot;: 3}\n",
       "            ).addTo(map_20b5fb83f0a3d6d6ae0afc52c930a9ef);\n",
       "        \n",
       "    \n",
       "            circle_marker_ec08b2fc1e75a83930175ab72b609de9.bindTooltip(\n",
       "                `&lt;div&gt;\n",
       "                     &lt;b&gt;지역:&lt;/b&gt; 서울 마포구&lt;br&gt;&lt;b&gt;전체평균:&lt;/b&gt; 10.1744\n",
       "                 &lt;/div&gt;`,\n",
       "                {&quot;sticky&quot;: true}\n",
       "            );\n",
       "        \n",
       "    \n",
       "            var circle_marker_32f20ca874f054a2996c32478fca83f7 = L.circleMarker(\n",
       "                [37.5793, 126.9368],\n",
       "                {&quot;bubblingMouseEvents&quot;: true, &quot;color&quot;: &quot;yellow&quot;, &quot;dashArray&quot;: null, &quot;dashOffset&quot;: null, &quot;fill&quot;: true, &quot;fillColor&quot;: &quot;yellow&quot;, &quot;fillOpacity&quot;: 0.7, &quot;fillRule&quot;: &quot;evenodd&quot;, &quot;lineCap&quot;: &quot;round&quot;, &quot;lineJoin&quot;: &quot;round&quot;, &quot;opacity&quot;: 1.0, &quot;radius&quot;: 6, &quot;stroke&quot;: true, &quot;weight&quot;: 3}\n",
       "            ).addTo(map_20b5fb83f0a3d6d6ae0afc52c930a9ef);\n",
       "        \n",
       "    \n",
       "            circle_marker_32f20ca874f054a2996c32478fca83f7.bindTooltip(\n",
       "                `&lt;div&gt;\n",
       "                     &lt;b&gt;지역:&lt;/b&gt; 서울 서대문구&lt;br&gt;&lt;b&gt;전체평균:&lt;/b&gt; 8.9483\n",
       "                 &lt;/div&gt;`,\n",
       "                {&quot;sticky&quot;: true}\n",
       "            );\n",
       "        \n",
       "    \n",
       "            var circle_marker_b12aed15e3b07c9c3eae811323cccf94 = L.circleMarker(\n",
       "                [37.4836, 127.0327],\n",
       "                {&quot;bubblingMouseEvents&quot;: true, &quot;color&quot;: &quot;red&quot;, &quot;dashArray&quot;: null, &quot;dashOffset&quot;: null, &quot;fill&quot;: true, &quot;fillColor&quot;: &quot;red&quot;, &quot;fillOpacity&quot;: 0.7, &quot;fillRule&quot;: &quot;evenodd&quot;, &quot;lineCap&quot;: &quot;round&quot;, &quot;lineJoin&quot;: &quot;round&quot;, &quot;opacity&quot;: 1.0, &quot;radius&quot;: 12, &quot;stroke&quot;: true, &quot;weight&quot;: 3}\n",
       "            ).addTo(map_20b5fb83f0a3d6d6ae0afc52c930a9ef);\n",
       "        \n",
       "    \n",
       "            circle_marker_b12aed15e3b07c9c3eae811323cccf94.bindTooltip(\n",
       "                `&lt;div&gt;\n",
       "                     &lt;b&gt;지역:&lt;/b&gt; 서울 서초구&lt;br&gt;&lt;b&gt;전체평균:&lt;/b&gt; 10.2686\n",
       "                 &lt;/div&gt;`,\n",
       "                {&quot;sticky&quot;: true}\n",
       "            );\n",
       "        \n",
       "    \n",
       "            var circle_marker_5d6c114cef0c1d38d23ed54bb4c48325 = L.circleMarker(\n",
       "                [37.5634, 127.0365],\n",
       "                {&quot;bubblingMouseEvents&quot;: true, &quot;color&quot;: &quot;orange&quot;, &quot;dashArray&quot;: null, &quot;dashOffset&quot;: null, &quot;fill&quot;: true, &quot;fillColor&quot;: &quot;orange&quot;, &quot;fillOpacity&quot;: 0.7, &quot;fillRule&quot;: &quot;evenodd&quot;, &quot;lineCap&quot;: &quot;round&quot;, &quot;lineJoin&quot;: &quot;round&quot;, &quot;opacity&quot;: 1.0, &quot;radius&quot;: 10, &quot;stroke&quot;: true, &quot;weight&quot;: 3}\n",
       "            ).addTo(map_20b5fb83f0a3d6d6ae0afc52c930a9ef);\n",
       "        \n",
       "    \n",
       "            circle_marker_5d6c114cef0c1d38d23ed54bb4c48325.bindTooltip(\n",
       "                `&lt;div&gt;\n",
       "                     &lt;b&gt;지역:&lt;/b&gt; 서울 성동구&lt;br&gt;&lt;b&gt;전체평균:&lt;/b&gt; 9.8776\n",
       "                 &lt;/div&gt;`,\n",
       "                {&quot;sticky&quot;: true}\n",
       "            );\n",
       "        \n",
       "    \n",
       "            var circle_marker_31110c5f541a3e2823aa831718fc35fe = L.circleMarker(\n",
       "                [37.5894, 127.0167],\n",
       "                {&quot;bubblingMouseEvents&quot;: true, &quot;color&quot;: &quot;red&quot;, &quot;dashArray&quot;: null, &quot;dashOffset&quot;: null, &quot;fill&quot;: true, &quot;fillColor&quot;: &quot;red&quot;, &quot;fillOpacity&quot;: 0.7, &quot;fillRule&quot;: &quot;evenodd&quot;, &quot;lineCap&quot;: &quot;round&quot;, &quot;lineJoin&quot;: &quot;round&quot;, &quot;opacity&quot;: 1.0, &quot;radius&quot;: 12, &quot;stroke&quot;: true, &quot;weight&quot;: 3}\n",
       "            ).addTo(map_20b5fb83f0a3d6d6ae0afc52c930a9ef);\n",
       "        \n",
       "    \n",
       "            circle_marker_31110c5f541a3e2823aa831718fc35fe.bindTooltip(\n",
       "                `&lt;div&gt;\n",
       "                     &lt;b&gt;지역:&lt;/b&gt; 서울 성북구&lt;br&gt;&lt;b&gt;전체평균:&lt;/b&gt; 10.0519\n",
       "                 &lt;/div&gt;`,\n",
       "                {&quot;sticky&quot;: true}\n",
       "            );\n",
       "        \n",
       "    \n",
       "            var circle_marker_850a97bea00479a8843216895e4a1382 = L.circleMarker(\n",
       "                [37.5145, 127.1057],\n",
       "                {&quot;bubblingMouseEvents&quot;: true, &quot;color&quot;: &quot;red&quot;, &quot;dashArray&quot;: null, &quot;dashOffset&quot;: null, &quot;fill&quot;: true, &quot;fillColor&quot;: &quot;red&quot;, &quot;fillOpacity&quot;: 0.7, &quot;fillRule&quot;: &quot;evenodd&quot;, &quot;lineCap&quot;: &quot;round&quot;, &quot;lineJoin&quot;: &quot;round&quot;, &quot;opacity&quot;: 1.0, &quot;radius&quot;: 12, &quot;stroke&quot;: true, &quot;weight&quot;: 3}\n",
       "            ).addTo(map_20b5fb83f0a3d6d6ae0afc52c930a9ef);\n",
       "        \n",
       "    \n",
       "            circle_marker_850a97bea00479a8843216895e4a1382.bindTooltip(\n",
       "                `&lt;div&gt;\n",
       "                     &lt;b&gt;지역:&lt;/b&gt; 서울 송파구&lt;br&gt;&lt;b&gt;전체평균:&lt;/b&gt; 10.1264\n",
       "                 &lt;/div&gt;`,\n",
       "                {&quot;sticky&quot;: true}\n",
       "            );\n",
       "        \n",
       "    \n",
       "            var circle_marker_e8fe5dadfa1eba800d3a5615ff8278d2 = L.circleMarker(\n",
       "                [37.5169, 126.8665],\n",
       "                {&quot;bubblingMouseEvents&quot;: true, &quot;color&quot;: &quot;red&quot;, &quot;dashArray&quot;: null, &quot;dashOffset&quot;: null, &quot;fill&quot;: true, &quot;fillColor&quot;: &quot;red&quot;, &quot;fillOpacity&quot;: 0.7, &quot;fillRule&quot;: &quot;evenodd&quot;, &quot;lineCap&quot;: &quot;round&quot;, &quot;lineJoin&quot;: &quot;round&quot;, &quot;opacity&quot;: 1.0, &quot;radius&quot;: 12, &quot;stroke&quot;: true, &quot;weight&quot;: 3}\n",
       "            ).addTo(map_20b5fb83f0a3d6d6ae0afc52c930a9ef);\n",
       "        \n",
       "    \n",
       "            circle_marker_e8fe5dadfa1eba800d3a5615ff8278d2.bindTooltip(\n",
       "                `&lt;div&gt;\n",
       "                     &lt;b&gt;지역:&lt;/b&gt; 서울 양천구&lt;br&gt;&lt;b&gt;전체평균:&lt;/b&gt; 10.1706\n",
       "                 &lt;/div&gt;`,\n",
       "                {&quot;sticky&quot;: true}\n",
       "            );\n",
       "        \n",
       "    \n",
       "            var circle_marker_e2e74b111f0c2d950e298d6191796668 = L.circleMarker(\n",
       "                [37.5265, 126.8963],\n",
       "                {&quot;bubblingMouseEvents&quot;: true, &quot;color&quot;: &quot;orange&quot;, &quot;dashArray&quot;: null, &quot;dashOffset&quot;: null, &quot;fill&quot;: true, &quot;fillColor&quot;: &quot;orange&quot;, &quot;fillOpacity&quot;: 0.7, &quot;fillRule&quot;: &quot;evenodd&quot;, &quot;lineCap&quot;: &quot;round&quot;, &quot;lineJoin&quot;: &quot;round&quot;, &quot;opacity&quot;: 1.0, &quot;radius&quot;: 10, &quot;stroke&quot;: true, &quot;weight&quot;: 3}\n",
       "            ).addTo(map_20b5fb83f0a3d6d6ae0afc52c930a9ef);\n",
       "        \n",
       "    \n",
       "            circle_marker_e2e74b111f0c2d950e298d6191796668.bindTooltip(\n",
       "                `&lt;div&gt;\n",
       "                     &lt;b&gt;지역:&lt;/b&gt; 서울 영등포구&lt;br&gt;&lt;b&gt;전체평균:&lt;/b&gt; 9.8848\n",
       "                 &lt;/div&gt;`,\n",
       "                {&quot;sticky&quot;: true}\n",
       "            );\n",
       "        \n",
       "    \n",
       "            var circle_marker_4e70465f44fb0ae5b340a6b736c2a8c4 = L.circleMarker(\n",
       "                [37.5326, 126.9906],\n",
       "                {&quot;bubblingMouseEvents&quot;: true, &quot;color&quot;: &quot;red&quot;, &quot;dashArray&quot;: null, &quot;dashOffset&quot;: null, &quot;fill&quot;: true, &quot;fillColor&quot;: &quot;red&quot;, &quot;fillOpacity&quot;: 0.7, &quot;fillRule&quot;: &quot;evenodd&quot;, &quot;lineCap&quot;: &quot;round&quot;, &quot;lineJoin&quot;: &quot;round&quot;, &quot;opacity&quot;: 1.0, &quot;radius&quot;: 12, &quot;stroke&quot;: true, &quot;weight&quot;: 3}\n",
       "            ).addTo(map_20b5fb83f0a3d6d6ae0afc52c930a9ef);\n",
       "        \n",
       "    \n",
       "            circle_marker_4e70465f44fb0ae5b340a6b736c2a8c4.bindTooltip(\n",
       "                `&lt;div&gt;\n",
       "                     &lt;b&gt;지역:&lt;/b&gt; 서울 용산구&lt;br&gt;&lt;b&gt;전체평균:&lt;/b&gt; 10.8066\n",
       "                 &lt;/div&gt;`,\n",
       "                {&quot;sticky&quot;: true}\n",
       "            );\n",
       "        \n",
       "    \n",
       "            var circle_marker_03cc6395eb28ca3efff5823322384b46 = L.circleMarker(\n",
       "                [37.6176, 126.9227],\n",
       "                {&quot;bubblingMouseEvents&quot;: true, &quot;color&quot;: &quot;orange&quot;, &quot;dashArray&quot;: null, &quot;dashOffset&quot;: null, &quot;fill&quot;: true, &quot;fillColor&quot;: &quot;orange&quot;, &quot;fillOpacity&quot;: 0.7, &quot;fillRule&quot;: &quot;evenodd&quot;, &quot;lineCap&quot;: &quot;round&quot;, &quot;lineJoin&quot;: &quot;round&quot;, &quot;opacity&quot;: 1.0, &quot;radius&quot;: 10, &quot;stroke&quot;: true, &quot;weight&quot;: 3}\n",
       "            ).addTo(map_20b5fb83f0a3d6d6ae0afc52c930a9ef);\n",
       "        \n",
       "    \n",
       "            circle_marker_03cc6395eb28ca3efff5823322384b46.bindTooltip(\n",
       "                `&lt;div&gt;\n",
       "                     &lt;b&gt;지역:&lt;/b&gt; 서울 은평구&lt;br&gt;&lt;b&gt;전체평균:&lt;/b&gt; 9.4867\n",
       "                 &lt;/div&gt;`,\n",
       "                {&quot;sticky&quot;: true}\n",
       "            );\n",
       "        \n",
       "    \n",
       "            var circle_marker_ff464650dfdc603731ede18cf1ee7636 = L.circleMarker(\n",
       "                [37.5729, 126.9793],\n",
       "                {&quot;bubblingMouseEvents&quot;: true, &quot;color&quot;: &quot;orange&quot;, &quot;dashArray&quot;: null, &quot;dashOffset&quot;: null, &quot;fill&quot;: true, &quot;fillColor&quot;: &quot;orange&quot;, &quot;fillOpacity&quot;: 0.7, &quot;fillRule&quot;: &quot;evenodd&quot;, &quot;lineCap&quot;: &quot;round&quot;, &quot;lineJoin&quot;: &quot;round&quot;, &quot;opacity&quot;: 1.0, &quot;radius&quot;: 10, &quot;stroke&quot;: true, &quot;weight&quot;: 3}\n",
       "            ).addTo(map_20b5fb83f0a3d6d6ae0afc52c930a9ef);\n",
       "        \n",
       "    \n",
       "            circle_marker_ff464650dfdc603731ede18cf1ee7636.bindTooltip(\n",
       "                `&lt;div&gt;\n",
       "                     &lt;b&gt;지역:&lt;/b&gt; 서울 종로구&lt;br&gt;&lt;b&gt;전체평균:&lt;/b&gt; 9.3201\n",
       "                 &lt;/div&gt;`,\n",
       "                {&quot;sticky&quot;: true}\n",
       "            );\n",
       "        \n",
       "    \n",
       "            var circle_marker_312114dc0ca5c24bf27212b97973b2be = L.circleMarker(\n",
       "                [37.5633, 126.9977],\n",
       "                {&quot;bubblingMouseEvents&quot;: true, &quot;color&quot;: &quot;orange&quot;, &quot;dashArray&quot;: null, &quot;dashOffset&quot;: null, &quot;fill&quot;: true, &quot;fillColor&quot;: &quot;orange&quot;, &quot;fillOpacity&quot;: 0.7, &quot;fillRule&quot;: &quot;evenodd&quot;, &quot;lineCap&quot;: &quot;round&quot;, &quot;lineJoin&quot;: &quot;round&quot;, &quot;opacity&quot;: 1.0, &quot;radius&quot;: 10, &quot;stroke&quot;: true, &quot;weight&quot;: 3}\n",
       "            ).addTo(map_20b5fb83f0a3d6d6ae0afc52c930a9ef);\n",
       "        \n",
       "    \n",
       "            circle_marker_312114dc0ca5c24bf27212b97973b2be.bindTooltip(\n",
       "                `&lt;div&gt;\n",
       "                     &lt;b&gt;지역:&lt;/b&gt; 서울 중구&lt;br&gt;&lt;b&gt;전체평균:&lt;/b&gt; 9.6603\n",
       "                 &lt;/div&gt;`,\n",
       "                {&quot;sticky&quot;: true}\n",
       "            );\n",
       "        \n",
       "    \n",
       "            var circle_marker_a0ae7dc4bd6f722784d5292a5ec2f4e8 = L.circleMarker(\n",
       "                [37.6063, 127.0927],\n",
       "                {&quot;bubblingMouseEvents&quot;: true, &quot;color&quot;: &quot;orange&quot;, &quot;dashArray&quot;: null, &quot;dashOffset&quot;: null, &quot;fill&quot;: true, &quot;fillColor&quot;: &quot;orange&quot;, &quot;fillOpacity&quot;: 0.7, &quot;fillRule&quot;: &quot;evenodd&quot;, &quot;lineCap&quot;: &quot;round&quot;, &quot;lineJoin&quot;: &quot;round&quot;, &quot;opacity&quot;: 1.0, &quot;radius&quot;: 10, &quot;stroke&quot;: true, &quot;weight&quot;: 3}\n",
       "            ).addTo(map_20b5fb83f0a3d6d6ae0afc52c930a9ef);\n",
       "        \n",
       "    \n",
       "            circle_marker_a0ae7dc4bd6f722784d5292a5ec2f4e8.bindTooltip(\n",
       "                `&lt;div&gt;\n",
       "                     &lt;b&gt;지역:&lt;/b&gt; 서울 중랑구&lt;br&gt;&lt;b&gt;전체평균:&lt;/b&gt; 9.4501\n",
       "                 &lt;/div&gt;`,\n",
       "                {&quot;sticky&quot;: true}\n",
       "            );\n",
       "        \n",
       "&lt;/script&gt;\n",
       "&lt;/html&gt;\" style=\"position:absolute;width:100%;height:100%;left:0;top:0;border:none !important;\" allowfullscreen webkitallowfullscreen mozallowfullscreen></iframe></div></div>"
      ],
      "text/plain": [
       "<folium.folium.Map at 0x26f56466c08>"
      ]
     },
     "metadata": {},
     "output_type": "display_data"
    }
   ],
   "source": [
    "import folium\n",
    "from IPython.display import display #falium으로 생성한 지도를 표시하기 위해 display 함수 사용\n",
    "\n",
    "#서울을 중심으로 지도를 설정함.\n",
    "map_center = [37.5665, 126.9780] #서울의 중심 좌표를 지정함.\n",
    "m = folium.Map(location=map_center, zoom_start=11) #지도 생성 및 레벨 설정\n",
    "\n",
    "#지역별 위도, 경도를 사용함.\n",
    "location_data = {\n",
    "    \"서울 강남구\": [37.5172, 127.0473],\n",
    "    \"서울 강동구\": [37.5301, 127.1238],\n",
    "    \"서울 강북구\": [37.6396, 127.0257],\n",
    "    \"서울 강서구\": [37.5509, 126.8495],\n",
    "    \"서울 관악구\": [37.4784, 126.9516],\n",
    "    \"서울 광진구\": [37.5384, 127.0823],\n",
    "    \"서울 구로구\": [37.4955, 126.8875],\n",
    "    \"서울 금천구\": [37.4564, 126.8959],\n",
    "    \"서울 노원구\": [37.6543, 127.0568],\n",
    "    \"서울 도봉구\": [37.6688, 127.0472],\n",
    "    \"서울 동대문구\": [37.5744, 127.0399],\n",
    "    \"서울 동작구\": [37.5124, 126.9393],\n",
    "    \"서울 마포구\": [37.5638, 126.9084],\n",
    "    \"서울 서대문구\": [37.5793, 126.9368],\n",
    "    \"서울 서초구\": [37.4836, 127.0327],\n",
    "    \"서울 성동구\": [37.5634, 127.0365],\n",
    "    \"서울 성북구\": [37.5894, 127.0167],\n",
    "    \"서울 송파구\": [37.5145, 127.1057],\n",
    "    \"서울 양천구\": [37.5169, 126.8665],\n",
    "    \"서울 영등포구\": [37.5265, 126.8963],\n",
    "    \"서울 용산구\": [37.5326, 126.9906],\n",
    "    \"서울 은평구\": [37.6176, 126.9227],\n",
    "    \"서울 종로구\": [37.5729, 126.9793],\n",
    "    \"서울 중구\": [37.5633, 126.9977],\n",
    "    \"서울 중랑구\": [37.6063, 127.0927]\n",
    "}\n",
    "\n",
    "#각 지역의 평균값에 따라 마커를 추가함.\n",
    "for _, row in region_avg_data.iterrows(): #지역별 평균 데이터프레임을 순회함.\n",
    "    region = row['지역'] #현재 행의 지역 이름을 가져옴.\n",
    "    if region in location_data:  #지역이 위도/경도 데이터에 있는 경우임.\n",
    "        latitude, longitude = location_data[region] #해당 지역의 위도, 경도 값을 가져옴.\n",
    "        overall_avg = row['전체평균'] #전체평균 값을 가져옴.\n",
    "\n",
    "        #전체평균 값에 따라 마커 크기와 색상을 설정함.\n",
    "        if overall_avg >= 10: #평균이 10 이상일 경우\n",
    "            color = 'red' #빨간색으로 표시함.\n",
    "            radius = 12 #마커의 크기\n",
    "        elif 9 <= overall_avg < 10: #평균이 9 이상 10 미만일 경우\n",
    "            color = 'orange' #주황색으로 표시함.\n",
    "            radius = 10 #마커의 크기\n",
    "        else: #평균이 9 미만일 경우\n",
    "            color = 'yellow' #노란색으로 표시함\n",
    "            radius = 6 #마커의 크기\n",
    "        \n",
    "        #마커에 커서를 올려둘 경우 지역과 전체평균 조회가 가능하도록 함.\n",
    "        folium.CircleMarker(\n",
    "            location=[latitude, longitude], #마커의 위치를 설정함.\n",
    "            radius=radius,  #값의 크기에 따라 원의 크기를 조정함.\n",
    "            color=color, #외곽선 색상 설정\n",
    "            fill=True, #원 내부를 채움.\n",
    "            fill_color=color, #채움 색상 설정\n",
    "            fill_opacity=0.7, #채움 투명도 설정\n",
    "            tooltip=( #마커에 툴팁(정보 팝업) 설정. 매우 잘 기능함. 기능을 확인할 수 있도록 html 파일을 첨부함.\n",
    "                f\"<b>지역:</b> {region}<br>\" #지역 이름 표시\n",
    "                f\"<b>전체평균:</b> {overall_avg:.4f}\" #전체평균 값 표시\n",
    "            )\n",
    "        ).add_to(m)\n",
    "\n",
    "display(m) #생성된 지도를 노트북에서 표시함."
   ]
  },
  {
   "cell_type": "code",
   "execution_count": 146,
   "metadata": {
    "scrolled": false
   },
   "outputs": [
    {
     "data": {
      "image/png": "[encoded data removed]",
      "text/plain": [
       "<Figure size 864x576 with 1 Axes>"
      ]
     },
     "metadata": {
      "needs_background": "light"
     },
     "output_type": "display_data"
    }
   ],
   "source": [
    "#대기질 공간의 순서를 분석하고자 함. 지도보다 값의 차이와 순서를 강조하기 위해 점 그래프를 생성하는 것이 다른 그래프보다 좋은 시각화가 될 것이라고 판단.\n",
    "plt.figure(figsize=(12, 8)) #크기를 설정함. \n",
    "plt.plot(sorted_data['지역'], sorted_data['전체평균'], 'o-', color='blue') #점 그래프 생성. 지역별 전체평균을 x축과 y축에 매핑하고, 선으로 연결함.\n",
    "plt.title('지역별 전체평균 농도', fontsize=16) #그래프 제목.\n",
    "plt.xlabel('지역', fontsize=12) #x축 레이블.\n",
    "plt.ylabel('전체평균', fontsize=12) #y축 레이블.\n",
    "plt.xticks(rotation=45, ha='right')  #지역 이름이 겹치지 않도록 기울임 효과를 줌. 오른쪽 정렬로 설정하여 가독성을 높임.\n",
    "plt.grid(axis='y', linestyle='--', alpha=0.7) #y축에 점선 스타일의 격자를 추가함. 투명도를 0.7로 설정하여 배경과 구분되게 함.\n",
    "\n",
    "plt.show() #그래프를 화면에 표시함."
   ]
  },
  {
   "cell_type": "markdown",
   "metadata": {},
   "source": [
    "### 서울시 대기질 개선\n",
    "#### 위의 지도와 그래프는 서울시 각 지역의 대기질 데이터를 종합적으로 분석한 결과를 시각화한 것이다. 지역별로 대기오염 물질의 평균 농도를 비교하고 공간적으로 분포를 확인하여 도시숲 조성 및 대기질 개선 전략에 중요한 인사이트를 제공한다.\n",
    "#### 1. 지역별 대기질 차이 분석\n",
    "#### 그래프는 지역별로 대기오염 물질의 전체평균 농도를 비교한 것으로, 특정 지역에서 농도가 상대적으로 높은 경향을 보이고 있다. 예를 들어, 서울 용산구와 강남구는 상대적으로 높은 평균 농도를 기록하며, 이는 교통량이 많거나 산업 활동이 집중된 지역에서 대기오염이 심각함을 알 수있다.\n",
    "#### 2. 공간적 대기질 분포\n",
    "#### 이러한 공간적 분포는 도시숲 조성 등 서울 대기질 개선을 위한 시설물의 최적의 위치를 선정하는 데 유용한 정보를 제공한다. 예를 들어, 도심 밀집 지역과 교통량이 많은 지역에 도시숲을 조성함으로써 대기오염 완화 효과를 극대화할 수 있다.\n",
    "#### 3. 도시숲 등 대기질 개선을 위한 시설물의 필요성과 전략\n",
    "#### 도시숲은 대기질 개선뿐만 아니라 온열섬 현상 완화, 탄소 흡수, 시민 건강 증진 등 다양한 긍정적 효과를 가져온다. 대기질이 높은 농도로 나타나는 지역(붉은색), 그래프의 왼쪽을 중심으로 도시숲을 조성한다면, 공기 정화 효과를 통해 주변 지역의 대기질을 개선할 수 있을 것이다. 예를 들어, 주요 도심 지역과 오염도가 높은 교차로 인근에 나무와 녹지를 조성하거나 확장하여 미세먼지와 유해가스를 흡수할 수 있는 환경을 구축하는 것이 중요하다.\n",
    "#### 4. 추진 방안\n",
    "#### 데이터 기반의 도시계획: 위의 시각화 자료를 활용해 도시숲 조성을 우선적으로 시행할 지역을 선정하고, 예산과 자원을 효율적으로 배분해야 한다.\n",
    "### 이 분석은 서울시 대기질 개선과 관련된 정책 및 프로젝트 개발에 중요한 기초 자료로 활용될 수 있으며, 보다 나은 도시 환경을 만드는 데 기여할 것이다. 지역별 대기질 차이를 명확히 파악하고 공간적 대기질 분포를 분석함으로써, 대기오염 문제를 해결하기 위한 구체적이고 실효성 있는 전략을 제시할 수 있다. 이와 같은 데이터 기반의 접근은 서울시의 지속 가능한 발전과 환경 친화적인 도시 만들기를 위한 중요한 단계로, 향후 정책 및 계획에 실질적인 도움이 될 것이다."
   ]
  },
  {
   "cell_type": "code",
   "execution_count": 151,
   "metadata": {},
   "outputs": [
    {
     "data": {
      "image/png": "[encoded data removed]",
      "text/plain": [
       "<Figure size 1008x576 with 1 Axes>"
      ]
     },
     "metadata": {
      "needs_background": "light"
     },
     "output_type": "display_data"
    }
   ],
   "source": [
    "import pandas as pd\n",
    "import matplotlib.pyplot as plt\n",
    "\n",
    "data = pd.read_csv(r\"C:\\Users\\jsk57\\Downloads\\2023\\2023\\monthly_data.csv\") #이전에 생성했던 월별 데이터 csv 파일을 불러옴.\n",
    "\n",
    "#계절 열을 생성함.\n",
    "def get_season(month): #월을 기준으로 계절을 구분함.\n",
    "    if month in [12, 1, 2]: #12,1,2월은 겨울\n",
    "        return '겨울'\n",
    "    elif month in [3, 4, 5]: #3,4,5월은 봄\n",
    "        return '봄'\n",
    "    elif month in [6, 7, 8]: #6,7,8월은 여름\n",
    "        return '여름'\n",
    "    elif month in [9, 10, 11]: #9,10,11월은 가을\n",
    "        return '가을'\n",
    "\n",
    "data['계절'] = data['월'].apply(get_season) #월 열을 기준으로 각 계절을 적용해 계절 열을 생성함.\n",
    "\n",
    "#가을, 겨울, 봄, 여름 순서로 그래프가 시각화되어 계절 순서를 지정해 순서대로 정렬되도록 설정함.\n",
    "season_order = ['겨울', '봄', '여름', '가을']\n",
    "data['계절'] = pd.Categorical(data['계절'], categories=season_order, ordered=True)\n",
    "\n",
    "#각 계절마다 오염물질의 평균 농도를 구해 계절별 평균을 계산함.\n",
    "seasonal_data = data.groupby('계절')[['SO2', 'CO', 'O3', 'NO2', 'PM10', 'PM25']].mean().reset_index()\n",
    "\n",
    "#계절별 평균 농도의 결과를 시각화함.\n",
    "pollutants = ['SO2', 'CO', 'O3', 'NO2', 'PM10', 'PM25']\n",
    "plt.figure(figsize=(14, 8))  #그래프 크기 조정\n",
    "\n",
    "#각 오염물질에 대한 계절별 농도를 선 그래프 형태로 나타냄.\n",
    "for pollutant in pollutants:\n",
    "    plt.plot(\n",
    "        seasonal_data['계절'], seasonal_data[pollutant], marker='o', linestyle='-', label=pollutant\n",
    "    )\n",
    "\n",
    "plt.title('계절별 대기오염 물질 농도', fontsize=16) #제목\n",
    "plt.xlabel('계절', fontsize=14) #x축 레이블\n",
    "plt.ylabel('농도 (평균)', fontsize=14) #y축 레이블\n",
    "plt.yscale('log') #y축을 로그 스케일로 설정하여 큰 값의 차이를 잘 표현해 줌.\n",
    "plt.xticks(fontsize=12) #x축 레이블 폰트 크기\n",
    "plt.yticks(fontsize=12) #y축 레이블 폰트 크기\n",
    "plt.legend(title='오염 물질', fontsize=12, loc='center left', bbox_to_anchor=(1, 0.5))  #범례 위치를 오른쪽으로 이동함.\n",
    "plt.grid(True, linestyle='--', alpha=0.7) #격자선 스타일을 설정함.\n",
    "plt.tight_layout()  #그래프 요소의 간격을 자동 조정함.\n",
    "plt.show() #그래프를 화면에 표시함."
   ]
  },
  {
   "cell_type": "code",
   "execution_count": 170,
   "metadata": {
    "scrolled": false
   },
   "outputs": [
    {
     "data": {
      "image/png": "[encoded data removed]",
      "text/plain": [
       "<Figure size 864x576 with 1 Axes>"
      ]
     },
     "metadata": {
      "needs_background": "light"
     },
     "output_type": "display_data"
    }
   ],
   "source": [
    "#마찬가지로 6종류 모두 인체에 유해하기에 전체평균의 값도 의미있을 것이라고 판단하여 계절별로 전체 평균을 구함.\n",
    "import pandas as pd\n",
    "import matplotlib.pyplot as plt\n",
    "\n",
    "data = pd.read_csv(r\"C:\\Users\\jsk57\\Downloads\\2023\\2023\\monthly_data.csv\") #이전에 생성했던 월별 데이터 csv 파일을 불러옴.\n",
    "\n",
    "#계절 열을 생성함.\n",
    "def get_season(month): #월을 기준으로 계절을 구분함.\n",
    "    if month in [12, 1, 2]: #12,1,2월은 겨울\n",
    "        return '겨울'\n",
    "    elif month in [3, 4, 5]: #3,4,5월은 봄\n",
    "        return '봄'\n",
    "    elif month in [6, 7, 8]: #6,7,8월은 여름\n",
    "        return '여름'\n",
    "    elif month in [9, 10, 11]: #9,10,11월은 가을\n",
    "        return '가을'\n",
    "\n",
    "data['계절'] = data['월'].apply(get_season) #월 열을 기준으로 각 계절을 적용해 계절 열을 생성함.\n",
    "\n",
    "#가을,겨울,봄,여름 순서로 그래프가 시각화되어 계절 순서를 지정해 순서대로 정렬되도록 설정함.\n",
    "season_order = ['겨울', '봄', '여름', '가을']\n",
    "data['계절'] = pd.Categorical(data['계절'], categories=season_order, ordered=True)\n",
    "\n",
    "#각 날짜에 대해 6개의 오염물질의 평균을 계산하여 전체농도 열을 추가함.\n",
    "data['전체농도'] = data[['SO2', 'CO', 'O3', 'NO2', 'PM10', 'PM25']].mean(axis=1)\n",
    "\n",
    "#전체농도 열을 기준으로 계절별 평균을 구해서 새로운 DataFrame인 seasonal_avg에 저장함.\n",
    "seasonal_avg = data.groupby('계절')['전체농도'].mean().reset_index()\n",
    "\n",
    "#결과를 시각화함. 계절별로 평균 농도를 막대그래프로 표시함.\n",
    "plt.figure(figsize=(12, 8)) #그래프 크기를 설정함.\n",
    "plt.bar(seasonal_avg['계절'], seasonal_avg['전체농도'], color=['blue', 'red', 'green', 'yellow']) #각 계절에 맞는 색상을 지정함.\n",
    "\n",
    "#각 막대 위에 전체 농도 값을 숫자로 표시함.\n",
    "for i, v in enumerate(seasonal_avg['전체농도']):\n",
    "    plt.text(i, v + 0.3, str(round(v, 2)), ha='center', fontsize=12) #+0.3으로 막대 위의 숫자 간격을 조절함. 봄 그래프 숫자가 잘 보이지 않아서 추가함.\n",
    "\n",
    "plt.title('계절별 전체 농도 평균', fontsize=16) #제목\n",
    "plt.xlabel('계절', fontsize=14) #x축 레이블\n",
    "plt.ylabel('전체 농도 평균', fontsize=14) #y축 레이블\n",
    "#축 눈금 크기를 설정함\n",
    "plt.xticks(fontsize=12)\n",
    "plt.yticks(fontsize=12)\n",
    "\n",
    "plt.grid(axis='y', linestyle='--', alpha=0.7) #y축에만 그리드 선을 추가함.\n",
    "plt.tight_layout()  # 그래프 요소 간격을 자동 조정함.\n",
    "plt.show() #그래프를 출력함."
   ]
  },
  {
   "cell_type": "markdown",
   "metadata": {},
   "source": [
    "### 대기질 개선 및 정책 제안\n",
    "#### 위의 그래프는 서울시 대기질 데이터를 종합적으로 분석한 결과를 계절별로 나누어 시각화한 것이다. 계절별 대기질 데이터 분석 결과는 도시 대기질 개선 및 정책 발의의 중요한 인사이트를 제공한다. 이를 바탕으로 다양한 환경 정책 및 건강 관리 전략을 제안할 수 있다.\n",
    "#### 1. 환경 정책 제안\n",
    "#### 계절별 대기질 정보를 활용하여 정부나 지방 자치단체에 환경 개선을 위한 정책을 제안할 수 있다. 여름철과 겨울철 등의 대기질 차이를 분석하여, 대기 질 개선을 위한 특별 대책을 마련하는 데 사용할 수 있다. 예를 들어, 겨울철 난방 사용으로 인한 대기 오염이 심화되면, 효율적인 난방 시스템 도입을 촉구하거나, 차량의 배출가스를 줄이기 위한 교통 정책을 제안할 수 있다.\n",
    "#### 2. 날씨 및 환경 변화 예측 기반 건강 관리\n",
    "#### 계절별 농도를 기반으로 특정 계절의 대기질 변화를 예측할 수 있다. 계절별로 오염 물질 농도의 패턴을 기반으로, 향후 몇 년 간의 대기질 트렌드를 예측하는 데 활용할 수 있다. 예를 들어, 특정 계절에 미세먼지가 높아지는 경향이 있으면, 해당 계절에 대한 미세먼지 예보를 개선하여 시민들에게 실시간으로 경고를 발송할 수 있다.\n",
    "#### 3. 계절별 농도와 다른 변수들(날씨, 교통량, 산업 활동 등) 간의 관계 분석\n",
    "#### 날씨(온도, 습도)나 특정 산업 활동과 계절별 오염 물질 농도의 상관관계를 분석하여, 대기질 저하의 주요 원인을 찾아낼 수 있다. 예를 들어, 겨울철에 난방 사용이 많아지면서 대기 오염 농도가 높아지는지 파악하고, 이에 대한 대응책을 마련할 수 있다.\n",
    "### 이 분석은 서울시 대기질 개선과 관련된 정책 및 프로젝트 개발에 중요한 기초 자료로 활용될 수 있으며, 보다 나은 도시 환경을 만드는 데 기여할 것이다. 효율적인 환경 정책을 제안하고 시민들의 건강을 보호할 수 있는 대응 방안을 마련할 수 있다. 또한, 실시간 대기질 예측과 경고 시스템을 개선하여 시민들에게 실질적인 도움이 될 수 있는 환경을 조성할 것이다. 이와 같은 데이터 기반의 접근은 지속 가능한 도시 환경을 위한 중요한 첫걸음이 될 것이다."
   ]
  },
  {
   "cell_type": "code",
   "execution_count": 194,
   "metadata": {},
   "outputs": [
    {
     "name": "stdout",
     "output_type": "stream",
     "text": [
      "MAE: 0.0036779508909230477\n",
      "RMSE: 0.01126249002617306\n"
     ]
    }
   ],
   "source": [
    "import pandas as pd\n",
    "import numpy as np\n",
    "\n",
    "data = pd.read_csv(r\"C:\\Users\\jsk57\\Downloads\\2023\\2023\\seoul_data_final.csv\") #전처리 데이터를 불러옴.\n",
    "\n",
    "data['전체농도'] = data[['SO2', 'CO', 'O3', 'NO2', 'PM10', 'PM25']].mean(axis=1) #오염물질의 평균을 계산하여 전체농도 열을 생성함.\n",
    "\n",
    "data.dropna(subset=['SO2', 'CO', 'O3', 'NO2', 'PM10', 'PM25', '전체농도'], inplace=True) #결과에 영향을 주는 행을 제거함.\n",
    "\n",
    "#예측에 사용할 변수(x)와 타켓 변수(y)를 선택함.\n",
    "X = data[['SO2', 'CO', 'O3', 'NO2', 'PM10', 'PM25']] #독립 변수들\n",
    "y = data['전체농도']  #예측할 대상인 종속 변수. 즉, 전체농도.\n",
    "\n",
    "#특성의 범위를 동일하게 맞추기 위해 StaandardScaler를 사용하여 데이터를 정규화함.\n",
    "from sklearn.preprocessing import StandardScaler\n",
    "scaler = StandardScaler()\n",
    "X_scaled = scaler.fit_transform(X) #x 데이터를 평균 0, 표준편차 1로 정규화함.\n",
    "\n",
    "#훈련 데이터와 테스트 데이터를 80:20 비율로 분할함.\n",
    "from sklearn.model_selection import train_test_split\n",
    "X_train, X_test, y_train, y_test = train_test_split(X_scaled, y, test_size=0.2, random_state=42)\n",
    "\n",
    "#RandomForestRegressor를 사용하여 모델을 훈련함.\n",
    "from sklearn.ensemble import RandomForestRegressor\n",
    "model = RandomForestRegressor(n_estimators=100, random_state=42) #100개의 트리로 랜덤 포레스트 모델을 생성함.\n",
    "model.fit(X_train, y_train) #훈련 데이터를 사용하여 모델을 학습함.\n",
    "\n",
    "#테스트 데이터에 대해 예측값을 계산함.\n",
    "y_pred = model.predict(X_test)\n",
    "\n",
    "#예측 결과와 실제 값을 비교하여 성능을 평가함.\n",
    "from sklearn.metrics import mean_absolute_error, mean_squared_error\n",
    "mae = mean_absolute_error(y_test, y_pred) #MAE 계산 (절대 오차의 평균)\n",
    "rmse = mean_squared_error(y_test, y_pred, squared=False) #RMSE 계산 (오차 제곱 평균의 제곱근)\n",
    "\n",
    "print(f\"MAE: {mae}\")#MAE 출력\n",
    "print(f\"RMSE: {rmse}\") #RMSE 출력"
   ]
  },
  {
   "cell_type": "code",
   "execution_count": 195,
   "metadata": {},
   "outputs": [
    {
     "data": {
      "image/png": "[encoded data removed]",
      "text/plain": [
       "<Figure size 576x432 with 1 Axes>"
      ]
     },
     "metadata": {
      "needs_background": "light"
     },
     "output_type": "display_data"
    }
   ],
   "source": [
    "import matplotlib.pyplot as plt\n",
    "\n",
    "# 실제값과 예측값 비교\n",
    "plt.figure(figsize=(8, 6)) #산점도 그래프를 그리기 위한 준비, 크기 설정\n",
    "plt.scatter(y_test, y_pred, color='blue', alpha=0.5)#실제값(y_test)과 예측값(y_pred)의 관계를 산점도로 나타냄. alpha=0.5로 점의 투명도를 설정하여 중복된 점들이 보이도록 함.\n",
    "plt.plot([min(y_test), max(y_test)], [min(y_test), max(y_test)], color='red', linestyle='--')  # 완벽한 예측 선을 추가하여 모델의 예측 성능을 직관적으로 비교할 수 있도록 함.\n",
    "plt.xlabel('실제 값') #x축 레이블\n",
    "plt.ylabel('예측 값') #y축 레이블\n",
    "plt.title('실제 값과 예측 값 비교') #제목\n",
    "plt.show()#그래프를 출력함"
   ]
  },
  {
   "cell_type": "markdown",
   "metadata": {},
   "source": [
    "### 대기질 예측 모델\n",
    "#### 1. 모델 성능\n",
    "#### MAE(Mean Absolute Error): 0.0037\n",
    "#### 예측값과 실제값 사이의 평균 절대 오차가 0.0037이다. 이 값은 모델이 매우 정확하게 예측하고 있음을 보여준다.\n",
    "#### RMSE(Root Mean Squared Error): 0.0113\n",
    "#### 예측값과 실제값 사이의 제곱 평균 오차의 제곱근인 RMSE는 0.0113으로, 모델의 예측이 실제값에 매우 가까운 결과를 보였다.\n",
    "#### 2. 실제값과 예측값 비교\n",
    "#### 실제값과 예측값을 비교한 산점도 그래프에서는 파란색 점들이 실제값과 예측값 간의 관계를 나타내고 있다. 빨간색 점선은 완벽한 예측선을 나타내며, 모델이 실제값과 얼마나 잘 일치하는지를 시각적으로 확인할 수 있다. 그래프에서 빨간 점선에 매우 근접하고 있어, 모델이 매우 정확하게 에측했다는 것을 보여 준다.\n",
    "#### 3. 결과 분석\n",
    "#### 모델의 성능이 매우 우수하며, 예측값과 실제값이 거의 일치하는 모습이 그래프에서 확인된다. 이는 대기질 예측에 대한 높은 정확도를 나타낸다. MAE와 RMSE 값이 매우 낮아, 모델이 훈련 데이터에서 잘 학습되었고, 테스트 데이터에서도 높은 예측 정확도를 보였음을 의미한다.\n",
    "### 이 모델은 대기질 예측을 위한 신뢰할 수 있는 도구로 사용될 수 있으며, 이를  통해 환경 정책, 건강 관리, 대기질 개선 등의 분야에서 중요한 기초 자료로 활용될 수 있다. 이 모델을 활용하여 대기오염 농도를 예측하고, 대기질이 나쁠 때 알림을 제공하는 시스템을 구축할 수 있다. 대기질이 나빠질 것으로 예상되는 시기에 환경 보호 조치를 강화하는 등의 대응이 가능한 대기질 개선을 위한 정책을 제시할 수 있다. "
   ]
  }
 ],
 "metadata": {
  "kernelspec": {
   "display_name": "Python 3",
   "language": "python",
   "name": "python3"
  },
  "language_info": {
   "codemirror_mode": {
    "name": "ipython",
    "version": 3
   },
   "file_extension": ".py",
   "mimetype": "text/x-python",
   "name": "python",
   "nbconvert_exporter": "python",
   "pygments_lexer": "ipython3",
   "version": "3.7.6"
  }
 },
 "nbformat": 4,
 "nbformat_minor": 4
}
